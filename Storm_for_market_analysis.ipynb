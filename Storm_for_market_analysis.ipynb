{
  "cells": [
    {
      "cell_type": "code",
      "execution_count": 1,
      "metadata": {
        "id": "EzZVhb0JOw_D"
      },
      "outputs": [],
      "source": [
        "%%capture --no-stderr\n",
        "%pip install -U langchain_community langchain_openai langchain_fireworks langgraph wikipedia duckduckgo-search tavily-python"
      ]
    },
    {
      "cell_type": "code",
      "execution_count": 2,
      "metadata": {
        "id": "4wBYakk-PeNP"
      },
      "outputs": [],
      "source": [
        "import getpass\n",
        "import os\n",
        "\n",
        "\n",
        "def _set_env(var: str):\n",
        "    if os.environ.get(var):\n",
        "        return\n",
        "    os.environ[var] = getpass.getpass(var + \":\")\n",
        "\n",
        "\n",
        "_set_env(\"OPENAI_API_KEY\")\n",
        "_set_env(\"TAVILY_API_KEY\")"
      ]
    },
    {
      "cell_type": "code",
      "execution_count": 3,
      "metadata": {
        "id": "4aVIFQVzPgPa"
      },
      "outputs": [],
      "source": [
        "from langchain_openai import ChatOpenAI\n",
        "\n",
        "fast_llm = ChatOpenAI(model=\"gpt-4o-mini\")\n",
        "# Uncomment for a Fireworks model\n",
        "# fast_llm = ChatFireworks(model=\"accounts/fireworks/models/firefunction-v1\", max_tokens=32_000)\n",
        "long_context_llm = ChatOpenAI(model=\"gpt-4o\")\n",
        "longer_context_llm = ChatOpenAI(model=\"gpt-4\")"
      ]
    },
    {
      "cell_type": "code",
      "execution_count": 4,
      "metadata": {
        "id": "eIT6q0VbPlAB"
      },
      "outputs": [],
      "source": [
        "from typing import List, Optional\n",
        "\n",
        "from langchain_core.prompts import ChatPromptTemplate\n",
        "\n",
        "from pydantic import BaseModel, Field\n",
        "\n",
        "direct_gen_outline_prompt = ChatPromptTemplate.from_messages(\n",
        "    [\n",
        "        (\n",
        "            \"system\",\n",
        "            \"You are a Business compitior analyst writer. Write an outline for an article about a user-provided topic. Be comprehensive and specific.\",\n",
        "        ),\n",
        "        (\"user\", \"{topic}\"),\n",
        "    ]\n",
        ")\n",
        "\n",
        "\n",
        "class Subsection(BaseModel):\n",
        "    subsection_title: str = Field(..., title=\"Title of the subsection\")\n",
        "    description: str = Field(..., title=\"Content of the subsection\")\n",
        "\n",
        "    @property\n",
        "    def as_str(self) -> str:\n",
        "        return f\"### {self.subsection_title}\\n\\n{self.description}\".strip()\n",
        "\n",
        "\n",
        "class Section(BaseModel):\n",
        "    section_title: str = Field(..., title=\"Title of the section\")\n",
        "    description: str = Field(..., title=\"Content of the section\")\n",
        "    subsections: Optional[List[Subsection]] = Field(\n",
        "        default=None,\n",
        "        title=\"Titles and descriptions for each subsection of the Wikipedia page.\",\n",
        "    )\n",
        "\n",
        "    @property\n",
        "    def as_str(self) -> str:\n",
        "        subsections = \"\\n\\n\".join(\n",
        "            f\"### {subsection.subsection_title}\\n\\n{subsection.description}\"\n",
        "            for subsection in self.subsections or []\n",
        "        )\n",
        "        return f\"## {self.section_title}\\n\\n{self.description}\\n\\n{subsections}\".strip()\n",
        "\n",
        "\n",
        "class Outline(BaseModel):\n",
        "    page_title: str = Field(..., title=\"Title of the Wikipedia page\")\n",
        "    sections: List[Section] = Field(\n",
        "        default_factory=list,\n",
        "        title=\"Titles and descriptions for each section of the Wikipedia page.\",\n",
        "    )\n",
        "\n",
        "    @property\n",
        "    def as_str(self) -> str:\n",
        "        sections = \"\\n\\n\".join(section.as_str for section in self.sections)\n",
        "        return f\"# {self.page_title}\\n\\n{sections}\".strip()\n",
        "\n",
        "\n",
        "generate_outline_direct = direct_gen_outline_prompt | fast_llm.with_structured_output(\n",
        "    Outline\n",
        ")"
      ]
    },
    {
      "cell_type": "code",
      "execution_count": 5,
      "metadata": {
        "colab": {
          "base_uri": "https://localhost:8080/"
        },
        "id": "j3zHL0SKQzqp",
        "outputId": "7229aaec-275e-44c4-d585-bf7b45d6bfd4"
      },
      "outputs": [
        {
          "name": "stdout",
          "output_type": "stream",
          "text": [
            "# Competitors of Quixy\n",
            "\n",
            "## Introduction\n",
            "\n",
            "An overview of Quixy as a low-code platform, its target market, and its primary features.\n",
            "\n",
            "## Market Overview\n",
            "\n",
            "Insight into the low-code development market, its growth, and the demand for platforms like Quixy.\n",
            "\n",
            "## Key Competitors\n",
            "\n",
            "A detailed analysis of the main competitors of Quixy in the low-code space.\n",
            "\n",
            "### OutSystems\n",
            "\n",
            "Overview of OutSystems, its features, strengths, and weaknesses.\n",
            "\n",
            "### Mendix\n",
            "\n",
            "Overview of Mendix, its features, strengths, and weaknesses.\n",
            "\n",
            "### Appian\n",
            "\n",
            "Overview of Appian, its features, strengths, and weaknesses.\n",
            "\n",
            "### Microsoft Power Apps\n",
            "\n",
            "Overview of Microsoft Power Apps, its features, strengths, and weaknesses.\n",
            "\n",
            "### Zoho Creator\n",
            "\n",
            "Overview of Zoho Creator, its features, strengths, and weaknesses.\n",
            "\n",
            "### Bubble\n",
            "\n",
            "Overview of Bubble, its features, strengths, and weaknesses.\n",
            "\n",
            "### Salesforce Lightning Platform\n",
            "\n",
            "Overview of Salesforce Lightning Platform, its features, strengths, and weaknesses.\n",
            "\n",
            "## Comparison of Features\n",
            "\n",
            "A side-by-side comparison of key features among Quixy and its competitors.\n",
            "\n",
            "## Pricing Models\n",
            "\n",
            "Analysis of the pricing structures of Quixy and its competitors.\n",
            "\n",
            "## Customer Support and Community\n",
            "\n",
            "Examination of customer support options and community engagement for Quixy and its competitors.\n",
            "\n",
            "## Market Positioning\n",
            "\n",
            "Discussion on how Quixy positions itself within the low-code market compared to its competitors.\n",
            "\n",
            "## Conclusion\n",
            "\n",
            "Summary of the competitive landscape for Quixy and considerations for potential users.\n"
          ]
        }
      ],
      "source": [
        "example_topic = \"Compititors of quixy\"\n",
        "\n",
        "initial_outline = generate_outline_direct.invoke({\"topic\": example_topic})\n",
        "\n",
        "print(initial_outline.as_str)"
      ]
    },
    {
      "cell_type": "code",
      "execution_count": 6,
      "metadata": {
        "id": "icLRkARlRWZK"
      },
      "outputs": [],
      "source": [
        "gen_related_topics_prompt = ChatPromptTemplate.from_template(\n",
        "    \"\"\"I'm writing a Wikipedia page for a topic mentioned below.\n",
        "    Please identify and recommend some blogs or articles on closely related subjects.\n",
        "    I'm looking for examples that provide insights into interesting aspects commonly associated with this topic, or examples that help me understand the\n",
        "    typical content and structure included in those articels for similar topics.\n",
        "\n",
        "Please list subjects which focus on market research analysis questions, around products and pricing and all general things around it.\n",
        "\n",
        "Topic of interest: {topic}\n",
        "\"\"\"\n",
        ")\n",
        "\n",
        "\n",
        "class RelatedSubjects(BaseModel):\n",
        "    topics: List[str] = Field(\n",
        "        description=\"Comprehensive list of related subjects as background research.\",\n",
        "    )\n",
        "\n",
        "\n",
        "expand_chain = gen_related_topics_prompt | fast_llm.with_structured_output(\n",
        "    RelatedSubjects\n",
        ")"
      ]
    },
    {
      "cell_type": "code",
      "execution_count": 7,
      "metadata": {
        "colab": {
          "base_uri": "https://localhost:8080/"
        },
        "id": "W0kqg6KaRhrM",
        "outputId": "48156a70-e41f-4c29-c6f4-62b7b19a276a"
      },
      "outputs": [
        {
          "data": {
            "text/plain": [
              "RelatedSubjects(topics=['Competitors of Quixy', 'Market research analysis', 'Product pricing strategies', 'Competitive analysis in software', 'Business intelligence', 'SaaS market trends', 'Product differentiation', 'Market share analysis', 'Customer needs assessment', 'Pricing models in software', 'Market segmentation', 'SWOT analysis of competitors', 'Industry benchmarks', 'Consumer behavior analysis'])"
            ]
          },
          "execution_count": 7,
          "metadata": {},
          "output_type": "execute_result"
        }
      ],
      "source": [
        "related_subjects = await expand_chain.ainvoke({\"topic\": example_topic})\n",
        "related_subjects"
      ]
    },
    {
      "cell_type": "code",
      "execution_count": 8,
      "metadata": {
        "id": "P58NACWCR54G"
      },
      "outputs": [],
      "source": [
        "class Editor(BaseModel):\n",
        "    affiliation: str = Field(\n",
        "        description=\"Primary affiliation of the editor.\",\n",
        "    )\n",
        "    name: str = Field(\n",
        "        description=\"Name of the editor.\", pattern=r\"^[a-zA-Z0-9_-]{1,64}$\"\n",
        "    )\n",
        "    role: str = Field(\n",
        "        description=\"Role of the editor in the context of the topic.\",\n",
        "    )\n",
        "    description: str = Field(\n",
        "        description=\"Description of the editor's focus, concerns, and motives.\",\n",
        "    )\n",
        "\n",
        "    @property\n",
        "    def persona(self) -> str:\n",
        "        return f\"Name: {self.name}\\nRole: {self.role}\\nAffiliation: {self.affiliation}\\nDescription: {self.description}\\n\"\n",
        "\n",
        "\n",
        "class Perspectives(BaseModel):\n",
        "    editors: List[Editor] = Field(\n",
        "        description=\"Comprehensive list of editors with their roles and affiliations.\",\n",
        "        # Add a pydantic validation/restriction to be at most M editors\n",
        "    )\n",
        "\n",
        "\n",
        "gen_perspectives_prompt = ChatPromptTemplate.from_messages(\n",
        "    [\n",
        "        (\n",
        "            \"system\",\n",
        "            \"\"\"You need to select a diverse (and distinct) group of article column editors who will work together to create a comprehensive article\n",
        "            on the topic. Each of them represents a different perspective in market analysis, role, or affiliation related to this topic.\n",
        "            You can use other Wikipedia pages, blogs, articles of related topics for inspiration.\n",
        "            For each editor, add a description of what they will focus on.\n",
        "\n",
        "    article outlines of related topics for inspiration:\n",
        "    {examples}\"\"\",\n",
        "        ),\n",
        "        (\"user\", \"Topic of interest: {topic}\"),\n",
        "    ]\n",
        ")\n",
        "\n",
        "gen_perspectives_chain = gen_perspectives_prompt | ChatOpenAI(\n",
        "    model=\"gpt-3.5-turbo\"\n",
        ").with_structured_output(Perspectives)"
      ]
    },
    {
      "cell_type": "code",
      "execution_count": 9,
      "metadata": {
        "id": "I_opyszhTBSC"
      },
      "outputs": [],
      "source": [
        "from langchain_community.retrievers import WikipediaRetriever\n",
        "from langchain_core.runnables import RunnableLambda\n",
        "from langchain_core.runnables import chain as as_runnable\n",
        "\n",
        "wikipedia_retriever = WikipediaRetriever(load_all_available_meta=True, top_k_results=1)\n",
        "\n",
        "\n",
        "def format_doc(doc, max_length=1000):\n",
        "    related = \"- \".join(doc.metadata[\"categories\"])\n",
        "    return f\"### {doc.metadata['title']}\\n\\nSummary: {doc.page_content}\\n\\nRelated\\n{related}\"[\n",
        "        :max_length\n",
        "    ]\n",
        "\n",
        "\n",
        "def format_docs(docs):\n",
        "    return \"\\n\\n\".join(format_doc(doc) for doc in docs)\n",
        "\n",
        "\n",
        "@as_runnable\n",
        "async def survey_subjects(topic: str):\n",
        "    related_subjects = await expand_chain.ainvoke({\"topic\": topic})\n",
        "    retrieved_docs = await wikipedia_retriever.abatch(\n",
        "        related_subjects.topics, return_exceptions=True\n",
        "    )\n",
        "    all_docs = []\n",
        "    for docs in retrieved_docs:\n",
        "        if isinstance(docs, BaseException):\n",
        "            continue\n",
        "        all_docs.extend(docs)\n",
        "    formatted = format_docs(all_docs)\n",
        "    return await gen_perspectives_chain.ainvoke({\"examples\": formatted, \"topic\": topic})"
      ]
    },
    {
      "cell_type": "code",
      "execution_count": 10,
      "metadata": {
        "id": "QH07XlLaTpt4"
      },
      "outputs": [
        {
          "name": "stderr",
          "output_type": "stream",
          "text": [
            "/opt/anaconda3/lib/python3.10/site-packages/wikipedia/wikipedia.py:389: GuessedAtParserWarning: No parser was explicitly specified, so I'm using the best available HTML parser for this system (\"lxml\"). This usually isn't a problem, but if you run this code on another system, or in a different virtual environment, it may use a different parser and behave differently.\n",
            "\n",
            "The code that caused this warning is on line 389 of the file /opt/anaconda3/lib/python3.10/site-packages/wikipedia/wikipedia.py. To get rid of this warning, pass the additional argument 'features=\"lxml\"' to the BeautifulSoup constructor.\n",
            "\n",
            "  lis = BeautifulSoup(html).find_all('li')\n"
          ]
        }
      ],
      "source": [
        "perspectives = await survey_subjects.ainvoke(example_topic)"
      ]
    },
    {
      "cell_type": "code",
      "execution_count": 11,
      "metadata": {
        "colab": {
          "base_uri": "https://localhost:8080/"
        },
        "id": "y75aPYsGTqns",
        "outputId": "3ec51350-df4f-4282-b2a4-a5928d78dbc4"
      },
      "outputs": [
        {
          "name": "stderr",
          "output_type": "stream",
          "text": [
            "/var/folders/_c/_wx3_r550ylgdgq0h4q8sllw0000gn/T/ipykernel_2705/3220195933.py:1: PydanticDeprecatedSince20: The `dict` method is deprecated; use `model_dump` instead. Deprecated in Pydantic V2.0 to be removed in V3.0. See Pydantic V2 Migration Guide at https://errors.pydantic.dev/2.10/migration/\n",
            "  perspectives.dict()\n"
          ]
        },
        {
          "data": {
            "text/plain": [
              "{'editors': [{'affiliation': 'Market analysis',\n",
              "   'name': 'AliceSmith',\n",
              "   'role': 'Market Analyst',\n",
              "   'description': 'Alice will focus on analyzing the market trends and competitors of Quixy, looking at their strengths, weaknesses, opportunities, and threats in comparison to Quixy.'},\n",
              "  {'affiliation': 'Pricing strategies',\n",
              "   'name': 'JohnDoe',\n",
              "   'role': 'Pricing Strategist',\n",
              "   'description': \"John will concentrate on evaluating the pricing strategies of Quixy's competitors and how they impact the market positioning and competitiveness of Quixy.\"},\n",
              "  {'affiliation': 'Positioning (marketing)',\n",
              "   'name': 'EmilyJones',\n",
              "   'role': 'Marketing Specialist',\n",
              "   'description': 'Emily will explore how the competitors of Quixy position themselves in the market and how Quixy can differentiate its brand to stand out among competitors.'},\n",
              "  {'affiliation': 'Business intelligence',\n",
              "   'name': 'DavidBrown',\n",
              "   'role': 'BI Analyst',\n",
              "   'description': \"David will analyze the business intelligence strategies implemented by Quixy's competitors and how they leverage data to gain a competitive edge in the market.\"}]}"
            ]
          },
          "execution_count": 11,
          "metadata": {},
          "output_type": "execute_result"
        }
      ],
      "source": [
        "perspectives.dict()"
      ]
    },
    {
      "cell_type": "code",
      "execution_count": 12,
      "metadata": {
        "id": "lbwV9YocUsU1"
      },
      "outputs": [],
      "source": [
        "from typing import Annotated\n",
        "\n",
        "from langchain_core.messages import AnyMessage\n",
        "from typing_extensions import TypedDict\n",
        "\n",
        "from langgraph.graph import END, StateGraph, START\n",
        "\n",
        "\n",
        "def add_messages(left, right):\n",
        "    if not isinstance(left, list):\n",
        "        left = [left]\n",
        "    if not isinstance(right, list):\n",
        "        right = [right]\n",
        "    return left + right\n",
        "\n",
        "\n",
        "def update_references(references, new_references):\n",
        "    if not references:\n",
        "        references = {}\n",
        "    references.update(new_references)\n",
        "    return references\n",
        "\n",
        "\n",
        "def update_editor(editor, new_editor):\n",
        "    # Can only set at the outset\n",
        "    if not editor:\n",
        "        return new_editor\n",
        "    return editor\n",
        "\n",
        "\n",
        "class InterviewState(TypedDict):\n",
        "    messages: Annotated[List[AnyMessage], add_messages]\n",
        "    references: Annotated[Optional[dict], update_references]\n",
        "    editor: Annotated[Optional[Editor], update_editor]"
      ]
    },
    {
      "cell_type": "code",
      "execution_count": 13,
      "metadata": {
        "id": "0dQE30SdXH4P"
      },
      "outputs": [],
      "source": [
        "from langchain_core.messages import AIMessage, HumanMessage, ToolMessage\n",
        "from langchain_core.prompts import MessagesPlaceholder\n",
        "\n",
        "gen_qn_prompt = ChatPromptTemplate.from_messages(\n",
        "    [\n",
        "        (\n",
        "            \"system\",\n",
        "            \"\"\"You are an experienced article writer and want to edit a specific page for market analysis. \\\n",
        "Besides your identity as an article writer, you have a specific focus when researching the topic. \\\n",
        "Now, you are chatting with an expert to get information. Ask good questions to get more useful information.\n",
        "\n",
        "When you have no more questions to ask, say \"Thank you so much for your help!\" to end the conversation.\\\n",
        "Please only ask one question at a time and don't ask what you have asked before.\\\n",
        "Your questions should be related to the topic you want to write.\n",
        "Be comprehensive and curious, gaining as much unique insight from the expert as possible.\\\n",
        "\n",
        "Stay true to your specific perspective:\n",
        "\n",
        "{persona}\"\"\",\n",
        "        ),\n",
        "        MessagesPlaceholder(variable_name=\"messages\", optional=True),\n",
        "    ]\n",
        ")\n",
        "\n",
        "\n",
        "def tag_with_name(ai_message: AIMessage, name: str):\n",
        "    ai_message.name = name\n",
        "    return ai_message\n",
        "\n",
        "\n",
        "def swap_roles(state: InterviewState, name: str):\n",
        "    converted = []\n",
        "    for message in state[\"messages\"]:\n",
        "        if isinstance(message, AIMessage) and message.name != name:\n",
        "            message = HumanMessage(**message.dict(exclude={\"type\"}))\n",
        "        converted.append(message)\n",
        "    return {\"messages\": converted}\n",
        "\n",
        "\n",
        "@as_runnable\n",
        "async def generate_question(state: InterviewState):\n",
        "    editor = state[\"editor\"]\n",
        "    gn_chain = (\n",
        "        RunnableLambda(swap_roles).bind(name=editor.name)\n",
        "        | gen_qn_prompt.partial(persona=editor.persona)\n",
        "        | fast_llm\n",
        "        | RunnableLambda(tag_with_name).bind(name=editor.name)\n",
        "    )\n",
        "    result = await gn_chain.ainvoke(state)\n",
        "    return {\"messages\": [result]}"
      ]
    },
    {
      "cell_type": "code",
      "execution_count": 14,
      "metadata": {
        "colab": {
          "base_uri": "https://localhost:8080/",
          "height": 53
        },
        "id": "Bf9ImAs5XX_H",
        "outputId": "c2391ff0-8155-4afc-9a62-715c38d1d1b0"
      },
      "outputs": [
        {
          "data": {
            "text/plain": [
              "\"Yes, I'm specifically focusing on the market trends and competitors of Quixy. To gain a deeper understanding, could you share which competitors you believe are the most significant in this space and what their primary strengths are?\""
            ]
          },
          "execution_count": 14,
          "metadata": {},
          "output_type": "execute_result"
        }
      ],
      "source": [
        "messages = [\n",
        "    HumanMessage(f\"So you said you were writing an article on {example_topic}?\")\n",
        "]\n",
        "question = await generate_question.ainvoke(\n",
        "    {\n",
        "        \"editor\": perspectives.editors[0],\n",
        "        \"messages\": messages,\n",
        "    }\n",
        ")\n",
        "\n",
        "question[\"messages\"][0].content"
      ]
    },
    {
      "cell_type": "code",
      "execution_count": 15,
      "metadata": {
        "id": "kub7z0HMXbQd"
      },
      "outputs": [],
      "source": [
        "class Queries(BaseModel):\n",
        "    queries: List[str] = Field(\n",
        "        description=\"Comprehensive list of search engine queries to answer the user's questions.\",\n",
        "    )\n",
        "\n",
        "\n",
        "gen_queries_prompt = ChatPromptTemplate.from_messages(\n",
        "    [\n",
        "        (\n",
        "            \"system\",\n",
        "            \"You are a helpful research assistant. Query the search engine to answer the user's questions.\",\n",
        "        ),\n",
        "        MessagesPlaceholder(variable_name=\"messages\", optional=True),\n",
        "    ]\n",
        ")\n",
        "gen_queries_chain = gen_queries_prompt | ChatOpenAI(\n",
        "    model=\"gpt-4o\"\n",
        ").with_structured_output(Queries, include_raw=True)"
      ]
    },
    {
      "cell_type": "code",
      "execution_count": 16,
      "metadata": {
        "colab": {
          "base_uri": "https://localhost:8080/"
        },
        "id": "IJbk7GVZXp80",
        "outputId": "675621e0-9ac2-4bbe-c1bf-40c019c8859c"
      },
      "outputs": [
        {
          "data": {
            "text/plain": [
              "['Quixy competitors',\n",
              " 'Quixy market trends',\n",
              " 'Quixy competitors strengths',\n",
              " 'Comparison of low-code platforms with Quixy']"
            ]
          },
          "execution_count": 16,
          "metadata": {},
          "output_type": "execute_result"
        }
      ],
      "source": [
        "queries = await gen_queries_chain.ainvoke(\n",
        "    {\"messages\": [HumanMessage(content=question[\"messages\"][0].content)]}\n",
        ")\n",
        "queries[\"parsed\"].queries"
      ]
    },
    {
      "cell_type": "code",
      "execution_count": 17,
      "metadata": {
        "id": "BMijvVxZXuF0"
      },
      "outputs": [],
      "source": [
        "class AnswerWithCitations(BaseModel):\n",
        "    answer: str = Field(\n",
        "        description=\"Comprehensive answer to the user's question with citations.\",\n",
        "    )\n",
        "    cited_urls: List[str] = Field(\n",
        "        description=\"List of urls cited in the answer.\",\n",
        "    )\n",
        "\n",
        "    @property\n",
        "    def as_str(self) -> str:\n",
        "        return f\"{self.answer}\\n\\nCitations:\\n\\n\" + \"\\n\".join(\n",
        "            f\"[{i+1}]: {url}\" for i, url in enumerate(self.cited_urls)\n",
        "        )\n",
        "\n",
        "\n",
        "gen_answer_prompt = ChatPromptTemplate.from_messages(\n",
        "    [\n",
        "        (\n",
        "            \"system\",\n",
        "            \"\"\"You are an expert who can use information effectively. You are chatting with an article writer who wants\\\n",
        " to write a Wikipedia page on the topic you know. You have gathered the related information and will now use the information to form a response.\n",
        "\n",
        "Make your response as informative as possible and make sure every sentence is supported by the gathered information.\n",
        "Each response must be backed up by a citation from a reliable source, formatted as a footnote, reproducing the URLS after your response.\"\"\",\n",
        "        ),\n",
        "        MessagesPlaceholder(variable_name=\"messages\", optional=True),\n",
        "    ]\n",
        ")\n",
        "\n",
        "gen_answer_chain = gen_answer_prompt | fast_llm.with_structured_output(\n",
        "    AnswerWithCitations, include_raw=True\n",
        ").with_config(run_name=\"GenerateAnswer\")"
      ]
    },
    {
      "cell_type": "code",
      "execution_count": 18,
      "metadata": {
        "id": "npnKhwaVXwD1"
      },
      "outputs": [],
      "source": [
        "from langchain_community.utilities.duckduckgo_search import DuckDuckGoSearchAPIWrapper\n",
        "from langchain_core.tools import tool\n",
        "\n",
        "'''\n",
        "# Tavily is typically a better search engine, but your free queries are limited\n",
        "search_engine = TavilySearchResults(max_results=4)\n",
        "\n",
        "@tool\n",
        "async def search_engine(query: str):\n",
        "    \"\"\"Search engine to the internet.\"\"\"\n",
        "    results = tavily_search.invoke(query)\n",
        "    return [{\"content\": r[\"content\"], \"url\": r[\"url\"]} for r in results]\n",
        "'''\n",
        "\n",
        "# DDG\n",
        "search_engine = DuckDuckGoSearchAPIWrapper()\n",
        "\n",
        "\n",
        "@tool\n",
        "async def search_engine(query: str):\n",
        "    \"\"\"Search engine to the internet.\"\"\"\n",
        "    results = DuckDuckGoSearchAPIWrapper()._ddgs_text(query)\n",
        "    return [{\"content\": r[\"body\"], \"url\": r[\"href\"]} for r in results]"
      ]
    },
    {
      "cell_type": "code",
      "execution_count": 19,
      "metadata": {
        "id": "Maz59bsNXwVc"
      },
      "outputs": [],
      "source": [
        "import json\n",
        "\n",
        "from langchain_core.runnables import RunnableConfig\n",
        "\n",
        "\n",
        "async def gen_answer(\n",
        "    state: InterviewState,\n",
        "    config: Optional[RunnableConfig] = None,\n",
        "    name: str = \"Subject_Matter_Expert\",\n",
        "    max_str_len: int = 15000,\n",
        "):\n",
        "    swapped_state = swap_roles(state, name)  # Convert all other AI messages\n",
        "    queries = await gen_queries_chain.ainvoke(swapped_state)\n",
        "    query_results = await search_engine.abatch(\n",
        "        queries[\"parsed\"].queries, config, return_exceptions=True\n",
        "    )\n",
        "    successful_results = [\n",
        "        res for res in query_results if not isinstance(res, Exception)\n",
        "    ]\n",
        "    all_query_results = {\n",
        "        res[\"url\"]: res[\"content\"] for results in successful_results for res in results\n",
        "    }\n",
        "    # We could be more precise about handling max token length if we wanted to here\n",
        "    dumped = json.dumps(all_query_results)[:max_str_len]\n",
        "    ai_message: AIMessage = queries[\"raw\"]\n",
        "    tool_call = queries[\"raw\"].tool_calls[0]\n",
        "    tool_id = tool_call[\"id\"]\n",
        "    tool_message = ToolMessage(tool_call_id=tool_id, content=dumped)\n",
        "    swapped_state[\"messages\"].extend([ai_message, tool_message])\n",
        "    # Only update the shared state with the final answer to avoid\n",
        "    # polluting the dialogue history with intermediate messages\n",
        "    generated = await gen_answer_chain.ainvoke(swapped_state)\n",
        "    cited_urls = set(generated[\"parsed\"].cited_urls)\n",
        "    # Save the retrieved information to a the shared state for future reference\n",
        "    cited_references = {k: v for k, v in all_query_results.items() if k in cited_urls}\n",
        "    formatted_message = AIMessage(name=name, content=generated[\"parsed\"].as_str)\n",
        "    return {\"messages\": [formatted_message], \"references\": cited_references}"
      ]
    },
    {
      "cell_type": "code",
      "execution_count": 20,
      "metadata": {
        "colab": {
          "base_uri": "https://localhost:8080/",
          "height": 140
        },
        "id": "-hp9gwcKXz9n",
        "outputId": "b0c54d23-9896-4299-b8bd-af741a4cc343"
      },
      "outputs": [
        {
          "ename": "AttributeError",
          "evalue": "'NoneType' object has no attribute 'cited_urls'",
          "output_type": "error",
          "traceback": [
            "\u001b[0;31m---------------------------------------------------------------------------\u001b[0m",
            "\u001b[0;31mAttributeError\u001b[0m                            Traceback (most recent call last)",
            "Cell \u001b[0;32mIn[20], line 1\u001b[0m\n\u001b[0;32m----> 1\u001b[0m example_answer \u001b[38;5;241m=\u001b[39m \u001b[38;5;28;01mawait\u001b[39;00m gen_answer(\n\u001b[1;32m      2\u001b[0m     {\u001b[38;5;124m\"\u001b[39m\u001b[38;5;124mmessages\u001b[39m\u001b[38;5;124m\"\u001b[39m: [HumanMessage(content\u001b[38;5;241m=\u001b[39mquestion[\u001b[38;5;124m\"\u001b[39m\u001b[38;5;124mmessages\u001b[39m\u001b[38;5;124m\"\u001b[39m][\u001b[38;5;241m0\u001b[39m]\u001b[38;5;241m.\u001b[39mcontent)]}\n\u001b[1;32m      3\u001b[0m )\n\u001b[1;32m      4\u001b[0m example_answer[\u001b[38;5;124m\"\u001b[39m\u001b[38;5;124mmessages\u001b[39m\u001b[38;5;124m\"\u001b[39m][\u001b[38;5;241m-\u001b[39m\u001b[38;5;241m1\u001b[39m]\u001b[38;5;241m.\u001b[39mcontent\n",
            "Cell \u001b[0;32mIn[19], line 33\u001b[0m, in \u001b[0;36mgen_answer\u001b[0;34m(state, config, name, max_str_len)\u001b[0m\n\u001b[1;32m     30\u001b[0m \u001b[38;5;66;03m# Only update the shared state with the final answer to avoid\u001b[39;00m\n\u001b[1;32m     31\u001b[0m \u001b[38;5;66;03m# polluting the dialogue history with intermediate messages\u001b[39;00m\n\u001b[1;32m     32\u001b[0m generated \u001b[38;5;241m=\u001b[39m \u001b[38;5;28;01mawait\u001b[39;00m gen_answer_chain\u001b[38;5;241m.\u001b[39mainvoke(swapped_state)\n\u001b[0;32m---> 33\u001b[0m cited_urls \u001b[38;5;241m=\u001b[39m \u001b[38;5;28mset\u001b[39m(\u001b[43mgenerated\u001b[49m\u001b[43m[\u001b[49m\u001b[38;5;124;43m\"\u001b[39;49m\u001b[38;5;124;43mparsed\u001b[39;49m\u001b[38;5;124;43m\"\u001b[39;49m\u001b[43m]\u001b[49m\u001b[38;5;241;43m.\u001b[39;49m\u001b[43mcited_urls\u001b[49m)\n\u001b[1;32m     34\u001b[0m \u001b[38;5;66;03m# Save the retrieved information to a the shared state for future reference\u001b[39;00m\n\u001b[1;32m     35\u001b[0m cited_references \u001b[38;5;241m=\u001b[39m {k: v \u001b[38;5;28;01mfor\u001b[39;00m k, v \u001b[38;5;129;01min\u001b[39;00m all_query_results\u001b[38;5;241m.\u001b[39mitems() \u001b[38;5;28;01mif\u001b[39;00m k \u001b[38;5;129;01min\u001b[39;00m cited_urls}\n",
            "\u001b[0;31mAttributeError\u001b[0m: 'NoneType' object has no attribute 'cited_urls'"
          ]
        }
      ],
      "source": [
        "example_answer = await gen_answer(\n",
        "    {\"messages\": [HumanMessage(content=question[\"messages\"][0].content)]}\n",
        ")\n",
        "example_answer[\"messages\"][-1].content"
      ]
    },
    {
      "cell_type": "code",
      "execution_count": null,
      "metadata": {
        "id": "elg2xWckX2Hm"
      },
      "outputs": [],
      "source": [
        "max_num_turns = 5\n",
        "from langgraph.pregel import RetryPolicy\n",
        "\n",
        "\n",
        "def route_messages(state: InterviewState, name: str = \"Subject_Matter_Expert\"):\n",
        "    messages = state[\"messages\"]\n",
        "    num_responses = len(\n",
        "        [m for m in messages if isinstance(m, AIMessage) and m.name == name]\n",
        "    )\n",
        "    if num_responses >= max_num_turns:\n",
        "        return END\n",
        "    last_question = messages[-2]\n",
        "    if last_question.content.endswith(\"Thank you so much for your help!\"):\n",
        "        return END\n",
        "    return \"ask_question\"\n",
        "\n",
        "\n",
        "builder = StateGraph(InterviewState)\n",
        "\n",
        "builder.add_node(\"ask_question\", generate_question, retry=RetryPolicy(max_attempts=5))\n",
        "builder.add_node(\"answer_question\", gen_answer, retry=RetryPolicy(max_attempts=5))\n",
        "builder.add_conditional_edges(\"answer_question\", route_messages)\n",
        "builder.add_edge(\"ask_question\", \"answer_question\")\n",
        "\n",
        "builder.add_edge(START, \"ask_question\")\n",
        "interview_graph = builder.compile(checkpointer=False).with_config(\n",
        "    run_name=\"Conduct Interviews\"\n",
        ")"
      ]
    },
    {
      "cell_type": "code",
      "execution_count": null,
      "metadata": {
        "colab": {
          "base_uri": "https://localhost:8080/",
          "height": 350
        },
        "id": "qJ2HKUASX50E",
        "outputId": "329f39bb-d986-4fc2-829a-1bbfbdfe2ebb"
      },
      "outputs": [
        {
          "data": {
            "image/png": "[encoded data removed]",
            "text/plain": [
              "<IPython.core.display.Image object>"
            ]
          },
          "metadata": {},
          "output_type": "display_data"
        }
      ],
      "source": [
        "from IPython.display import Image, display\n",
        "\n",
        "try:\n",
        "    display(Image(interview_graph.get_graph().draw_mermaid_png()))\n",
        "except Exception:\n",
        "    # This requires some extra dependencies and is optional\n",
        "    pass"
      ]
    },
    {
      "cell_type": "code",
      "execution_count": null,
      "metadata": {
        "colab": {
          "base_uri": "https://localhost:8080/"
        },
        "id": "4aK3xEWkX6Hb",
        "outputId": "c3013be2-1177-4c66-a469-185c9a7f7012"
      },
      "outputs": [
        {
          "name": "stderr",
          "output_type": "stream",
          "text": [
            "/var/folders/_c/_wx3_r550ylgdgq0h4q8sllw0000gn/T/ipykernel_1740/2208026300.py:35: PydanticDeprecatedSince20: The `dict` method is deprecated; use `model_dump` instead. Deprecated in Pydantic V2.0 to be removed in V3.0. See Pydantic V2 Migration Guide at https://errors.pydantic.dev/2.10/migration/\n",
            "  message = HumanMessage(**message.dict(exclude={\"type\"}))\n"
          ]
        },
        {
          "name": "stdout",
          "output_type": "stream",
          "text": [
            "ask_question\n",
            "--  [AIMessage(content=\"Yes, that's correct! My focus is on analyzing market trends, competitors' strategies, and market segmentation related to Quixy's competitors. Can you provide insights on the key competitors in the market and their unique selling propositions?\", additional_kwargs={'refusal': None}\n"
          ]
        },
        {
          "name": "stderr",
          "output_type": "stream",
          "text": [
            "/var/folders/_c/_wx3_r550ylgdgq0h4q8sllw0000gn/T/ipykernel_1740/2208026300.py:35: PydanticDeprecatedSince20: The `dict` method is deprecated; use `model_dump` instead. Deprecated in Pydantic V2.0 to be removed in V3.0. See Pydantic V2 Migration Guide at https://errors.pydantic.dev/2.10/migration/\n",
            "  message = HumanMessage(**message.dict(exclude={\"type\"}))\n"
          ]
        },
        {
          "name": "stdout",
          "output_type": "stream",
          "text": [
            "answer_question\n",
            "--  [AIMessage(content='Quixy, a leading no-code platform, faces competition from several key players in the market, each with unique selling propositions (USPs) that cater to diverse business needs. Notable competitors include Airtable, Newgen, and Odoo Studio.  \\n\\n1. **Airtable** - Airtable combines \n"
          ]
        },
        {
          "name": "stderr",
          "output_type": "stream",
          "text": [
            "/var/folders/_c/_wx3_r550ylgdgq0h4q8sllw0000gn/T/ipykernel_1740/2208026300.py:35: PydanticDeprecatedSince20: The `dict` method is deprecated; use `model_dump` instead. Deprecated in Pydantic V2.0 to be removed in V3.0. See Pydantic V2 Migration Guide at https://errors.pydantic.dev/2.10/migration/\n",
            "  message = HumanMessage(**message.dict(exclude={\"type\"}))\n"
          ]
        },
        {
          "name": "stdout",
          "output_type": "stream",
          "text": [
            "ask_question\n",
            "--  [AIMessage(content='What market segments are currently driving demand for no-code platforms like Quixy, and how do these segments differ in their needs and expectations from such tools?', additional_kwargs={'refusal': None}, response_metadata={'token_usage': {'completion_tokens': 32, 'prompt_tokens'\n"
          ]
        },
        {
          "name": "stderr",
          "output_type": "stream",
          "text": [
            "/var/folders/_c/_wx3_r550ylgdgq0h4q8sllw0000gn/T/ipykernel_1740/2208026300.py:35: PydanticDeprecatedSince20: The `dict` method is deprecated; use `model_dump` instead. Deprecated in Pydantic V2.0 to be removed in V3.0. See Pydantic V2 Migration Guide at https://errors.pydantic.dev/2.10/migration/\n",
            "  message = HumanMessage(**message.dict(exclude={\"type\"}))\n"
          ]
        },
        {
          "name": "stdout",
          "output_type": "stream",
          "text": [
            "answer_question\n",
            "--  [AIMessage(content=\"The demand for no-code platforms like Quixy is being driven by several market segments, each with distinct needs and expectations. Key segments include small to medium-sized enterprises (SMEs), large enterprises, and various industry verticals such as healthcare, finance, educati\n"
          ]
        },
        {
          "name": "stderr",
          "output_type": "stream",
          "text": [
            "/var/folders/_c/_wx3_r550ylgdgq0h4q8sllw0000gn/T/ipykernel_1740/2208026300.py:35: PydanticDeprecatedSince20: The `dict` method is deprecated; use `model_dump` instead. Deprecated in Pydantic V2.0 to be removed in V3.0. See Pydantic V2 Migration Guide at https://errors.pydantic.dev/2.10/migration/\n",
            "  message = HumanMessage(**message.dict(exclude={\"type\"}))\n"
          ]
        },
        {
          "name": "stdout",
          "output_type": "stream",
          "text": [
            "ask_question\n",
            "--  [AIMessage(content='What strategies are Quixy and its competitors employing to differentiate themselves in this growing market and attract their target segments?', additional_kwargs={'refusal': None}, response_metadata={'token_usage': {'completion_tokens': 24, 'prompt_tokens': 1576, 'total_tokens': \n"
          ]
        },
        {
          "name": "stderr",
          "output_type": "stream",
          "text": [
            "/var/folders/_c/_wx3_r550ylgdgq0h4q8sllw0000gn/T/ipykernel_1740/2208026300.py:35: PydanticDeprecatedSince20: The `dict` method is deprecated; use `model_dump` instead. Deprecated in Pydantic V2.0 to be removed in V3.0. See Pydantic V2 Migration Guide at https://errors.pydantic.dev/2.10/migration/\n",
            "  message = HumanMessage(**message.dict(exclude={\"type\"}))\n"
          ]
        },
        {
          "name": "stdout",
          "output_type": "stream",
          "text": [
            "answer_question\n",
            "--  [AIMessage(content=\"Quixy and its competitors are employing various strategies to differentiate themselves in the growing no-code platform market and attract their target segments. Here are some notable approaches:  \\n\\n1. **User Empowerment**: Quixy focuses on empowering non-technical users by prov\n"
          ]
        },
        {
          "name": "stderr",
          "output_type": "stream",
          "text": [
            "/var/folders/_c/_wx3_r550ylgdgq0h4q8sllw0000gn/T/ipykernel_1740/2208026300.py:35: PydanticDeprecatedSince20: The `dict` method is deprecated; use `model_dump` instead. Deprecated in Pydantic V2.0 to be removed in V3.0. See Pydantic V2 Migration Guide at https://errors.pydantic.dev/2.10/migration/\n",
            "  message = HumanMessage(**message.dict(exclude={\"type\"}))\n"
          ]
        },
        {
          "name": "stdout",
          "output_type": "stream",
          "text": [
            "ask_question\n",
            "--  [AIMessage(content='What are the emerging trends in the no-code market that could potentially influence the competitive landscape among Quixy and its competitors in the near future?', additional_kwargs={'refusal': None}, response_metadata={'token_usage': {'completion_tokens': 30, 'prompt_tokens': 23\n"
          ]
        },
        {
          "name": "stderr",
          "output_type": "stream",
          "text": [
            "/var/folders/_c/_wx3_r550ylgdgq0h4q8sllw0000gn/T/ipykernel_1740/2208026300.py:35: PydanticDeprecatedSince20: The `dict` method is deprecated; use `model_dump` instead. Deprecated in Pydantic V2.0 to be removed in V3.0. See Pydantic V2 Migration Guide at https://errors.pydantic.dev/2.10/migration/\n",
            "  message = HumanMessage(**message.dict(exclude={\"type\"}))\n"
          ]
        },
        {
          "name": "stdout",
          "output_type": "stream",
          "text": [
            "answer_question\n",
            "--  [AIMessage(content='Several emerging trends in the no-code market are poised to influence the competitive landscape among Quixy and its competitors in the near future:\\n\\n1. **AI and Machine Learning Integration**: The integration of artificial intelligence (AI) and machine learning (ML) into no-cod\n"
          ]
        }
      ],
      "source": [
        "final_step = None\n",
        "\n",
        "initial_state = {\n",
        "    \"editor\": perspectives.editors[0],\n",
        "    \"messages\": [\n",
        "        AIMessage(\n",
        "            content=f\"So you said you were writing an article on {example_topic}?\",\n",
        "            name=\"Subject_Matter_Expert\",\n",
        "        )\n",
        "    ],\n",
        "}\n",
        "async for step in interview_graph.astream(initial_state):\n",
        "    name = next(iter(step))\n",
        "    print(name)\n",
        "    print(\"-- \", str(step[name][\"messages\"])[:300])\n",
        "final_step = step"
      ]
    },
    {
      "cell_type": "code",
      "execution_count": null,
      "metadata": {
        "id": "w-3WBHmmX9NB"
      },
      "outputs": [],
      "source": [
        "final_state = next(iter(final_step.values()))"
      ]
    },
    {
      "cell_type": "code",
      "execution_count": null,
      "metadata": {
        "id": "sw8BdDKwX_lQ"
      },
      "outputs": [],
      "source": [
        "refine_outline_prompt = ChatPromptTemplate.from_messages(\n",
        "    [\n",
        "        (\n",
        "            \"system\",\n",
        "            \"\"\"You are a Business compitior analyst writer. You have gathered information from experts and search engines.\n",
        "            Now, you are refining the outline of the Wikipedia page. \\\n",
        "            You need to make sure that the outline is comprehensive and specific. \\\n",
        "            Topic you are writing about: {topic}\n",
        "\n",
        "Old outline:\n",
        "\n",
        "{old_outline}\"\"\",\n",
        "        ),\n",
        "        (\n",
        "            \"user\",\n",
        "            \"Refine the outline based on your conversations with subject-matter experts:\\n\\nConversations:\\n\\n{conversations}\\n\\nWrite the refined Wikipedia outline:\",\n",
        "        ),\n",
        "    ]\n",
        ")\n",
        "\n",
        "# Using turbo preview since the context can get quite long\n",
        "refine_outline_chain = refine_outline_prompt | long_context_llm.with_structured_output(\n",
        "    Outline\n",
        ")"
      ]
    },
    {
      "cell_type": "code",
      "execution_count": null,
      "metadata": {
        "id": "03Etvb9hYDb4"
      },
      "outputs": [],
      "source": [
        "refined_outline = refine_outline_chain.invoke(\n",
        "    {\n",
        "        \"topic\": example_topic,\n",
        "        \"old_outline\": initial_outline.as_str,\n",
        "        \"conversations\": \"\\n\\n\".join(\n",
        "            f\"### {m.name}\\n\\n{m.content}\" for m in final_state[\"messages\"]\n",
        "        ),\n",
        "    }\n",
        ")"
      ]
    },
    {
      "cell_type": "code",
      "execution_count": null,
      "metadata": {
        "colab": {
          "base_uri": "https://localhost:8080/"
        },
        "id": "sy8giXntYFq0",
        "outputId": "ee4b570b-2afc-484d-a921-de8ce72ff194"
      },
      "outputs": [
        {
          "name": "stdout",
          "output_type": "stream",
          "text": [
            "# Competitors of Quixy\n",
            "\n",
            "## Introduction\n",
            "\n",
            "An overview of Quixy and its role in the no-code application development market.\n",
            "\n",
            "## Understanding Quixy\n",
            "\n",
            "A brief description of Quixy's features, strengths, and target audience.\n",
            "\n",
            "## Key Competitors\n",
            "\n",
            "A detailed analysis of the main competitors of Quixy in the no-code platform space.\n",
            "\n",
            "### AppGyver\n",
            "\n",
            "Overview of AppGyver, its key features, target market, and how it compares to Quixy.\n",
            "\n",
            "### Bubble\n",
            "\n",
            "An examination of Bubble's offerings, strengths, and weaknesses in relation to Quixy.\n",
            "\n",
            "### OutSystems\n",
            "\n",
            "Analysis of OutSystems as a low-code platform, its features, and positioning against Quixy.\n",
            "\n",
            "### Mendix\n",
            "\n",
            "Description of Mendix's capabilities, use cases, and competitive edge over Quixy.\n",
            "\n",
            "### Airtable\n",
            "\n",
            "Exploration of Airtable's functionalities and its competition with Quixy.\n",
            "\n",
            "### Zoho Creator\n",
            "\n",
            "Insight into Zoho Creator's features and market positioning relative to Quixy.\n",
            "\n",
            "### Microsoft Power Apps\n",
            "\n",
            "Evaluation of Microsoft Power Apps as a competitor, including its integration with Microsoft services.\n",
            "\n",
            "### Glide\n",
            "\n",
            "Overview of Glide's no-code app development capabilities and how it stacks up against Quixy.\n",
            "\n",
            "### Thunkable\n",
            "\n",
            "Analysis of Thunkable's mobile app development tools and comparison with Quixy.\n",
            "\n",
            "## Market Trends\n",
            "\n",
            "An overview of current trends in the no-code/low-code market and how they impact Quixy and its competitors.\n",
            "\n",
            "### AI and Machine Learning Integration\n",
            "\n",
            "The impact of AI and ML integration on no-code platforms, enhancing user experience and reducing development time.\n",
            "\n",
            "### Natural Language Processing (NLP)\n",
            "\n",
            "The rise of NLP in no-code platforms, making them more accessible to non-technical users.\n",
            "\n",
            "### Increased Adoption by Enterprises\n",
            "\n",
            "The growing enterprise adoption of no-code platforms and its impact on competitive dynamics.\n",
            "\n",
            "### Rise of Citizen Developers\n",
            "\n",
            "The trend of empowering non-technical users to create applications and its implications for the no-code market.\n",
            "\n",
            "### Customization and Flexibility\n",
            "\n",
            "The demand for enhanced customization options and how platforms are responding.\n",
            "\n",
            "### Focus on Integration\n",
            "\n",
            "The importance of seamless integration with existing systems and third-party applications.\n",
            "\n",
            "### Market Growth\n",
            "\n",
            "The projected growth of the no-code market and its implications for competition.\n",
            "\n",
            "## Conclusion\n",
            "\n",
            "Summary of the competitive landscape for Quixy and strategic recommendations.\n"
          ]
        }
      ],
      "source": [
        "print(refined_outline.as_str)"
      ]
    },
    {
      "cell_type": "code",
      "execution_count": null,
      "metadata": {
        "colab": {
          "base_uri": "https://localhost:8080/"
        },
        "id": "ZrE8R7fejlhm",
        "outputId": "b97a149e-74dc-4da5-99c9-c3ceaf5b6f35"
      },
      "outputs": [
        {
          "data": {
            "text/plain": [
              "{'https://www.bp-3.com/blog/10-low-code/no-code-trends-for-2024': '10 Low-Code/No-Code Trends for the Upcoming Year . Synopsis. Market Growth: The low-code/no-code market is projected to reach $86.9 billion by 2027, driven by demand for quick app delivery and digital transformation.; Widespread Adoption: By 2025, low-code tools are expected to account for over 70% of software development, enabling non-technical users to contribute to app creation.',\n",
              " 'https://www.startechup.com/blog/8-low-code-no-code-trends-in-2024/': \"Whether you're a developer or a business owner, you've probably heard the buzz around low-code/no-code platforms. As we leap into 2024, get ready for these platforms to shake up the software development game like never before.. These platforms address the global shortage of high-code developers, while no-code bridges the gap by making it easier for non-technical users to get started.\",\n",
              " 'https://bubble.io/blog/state-of-no-code-development/': \"This approach of combining AI with no-code makes software development even easier and more accessible than no-code alone, while also further reducing the time it takes to complete a project. Accordingly, we've seen a slew of new AI-powered no-code solutions enter the market, like Anakin AI, Druid AI, and Obviously AI. Allen Yang puts it this way:\",\n",
              " 'https://www.cdotrends.com/story/4364/unlocking-future-low-codeno-code-trends-and-predictions': \"Emerging trends. Natural Language-Driven Interactions: ... Low-code/no-code platforms, bolstered by AI and GenAI, are revolutionizing how businesses approach application development. By empowering citizen developers and accelerating innovation, these platforms are addressing today's challenges and shaping the future of technology adoption ...\",\n",
              " 'https://lowcodenocode.org/blog/no-code-trends-shaping-2024/': 'Explore the key trends shaping the no code technology in 2024, from increased adoption by enterprises to the rise of citizen developers and integration with advanced technologies. ... Experts think the market for no code platforms will grow a lot, with a yearly growth rate of over 40% from 2021 to 2030. Year Projected Total Market Value; 2024 ...',\n",
              " 'https://jestor.com/blog/comparing-tools/top-15-no-code-tools-in-2024-and-market-trends/': \"In today's digital world, no-code tools have revolutionized how businesses and individuals create applications and manage data. In 2024, the variety of these tools is more impressive than ever. This article will explore some of the leading no-code tools available on the market, evaluating their main features and limitations. No-Code Trends 2024\",\n",
              " 'https://www.saasworthy.com/blog/low-code-and-no-code-platforms': 'The market for low-code and no-code platforms is expanding rapidly, driven by the increasing demand for faster application delivery and digital transformation. The global low-code development platform market was valued at $9.61 billion in 2023 and is projected to grow from $11.86 billion in 2024 to $64.95 billion by 2032, exhibiting a compound ...'}"
            ]
          },
          "execution_count": 30,
          "metadata": {},
          "output_type": "execute_result"
        }
      ],
      "source": [
        "final_state['references']"
      ]
    },
    {
      "cell_type": "code",
      "execution_count": null,
      "metadata": {
        "id": "O2bMIx7kYGh4"
      },
      "outputs": [],
      "source": [
        "from langchain_community.vectorstores import InMemoryVectorStore\n",
        "from langchain_core.documents import Document\n",
        "from langchain_openai import OpenAIEmbeddings\n",
        "\n",
        "embeddings = OpenAIEmbeddings(model=\"text-embedding-3-small\")\n",
        "reference_docs = [\n",
        "    Document(page_content=v, metadata={\"source\": k})\n",
        "    for k, v in final_state[\"references\"].items()\n",
        "]\n",
        "# This really doesn't need to be a vectorstore for this size of data.\n",
        "# It could just be a numpy matrix. Or you could store documents\n",
        "# across requests if you want.\n",
        "vectorstore = InMemoryVectorStore.from_documents(\n",
        "    reference_docs,\n",
        "    embedding=embeddings,\n",
        ")\n",
        "retriever = vectorstore.as_retriever(k=3)"
      ]
    },
    {
      "cell_type": "code",
      "execution_count": null,
      "metadata": {
        "colab": {
          "base_uri": "https://localhost:8080/"
        },
        "id": "fSkUoK94Yl7V",
        "outputId": "1b71a779-8972-4e1c-97d6-05a7ce3e22f1"
      },
      "outputs": [
        {
          "data": {
            "text/plain": [
              "[Document(id='51c44e20-dfbb-4db8-a069-3c9129596dcd', metadata={'source': 'https://www.cdotrends.com/story/4364/unlocking-future-low-codeno-code-trends-and-predictions'}, page_content=\"Emerging trends. Natural Language-Driven Interactions: ... Low-code/no-code platforms, bolstered by AI and GenAI, are revolutionizing how businesses approach application development. By empowering citizen developers and accelerating innovation, these platforms are addressing today's challenges and shaping the future of technology adoption ...\"),\n",
              " Document(id='8e758a34-7e4c-4d72-bc24-0ad9b4f51f69', metadata={'source': 'https://bubble.io/blog/state-of-no-code-development/'}, page_content=\"This approach of combining AI with no-code makes software development even easier and more accessible than no-code alone, while also further reducing the time it takes to complete a project. Accordingly, we've seen a slew of new AI-powered no-code solutions enter the market, like Anakin AI, Druid AI, and Obviously AI. Allen Yang puts it this way:\"),\n",
              " Document(id='f6e09b38-aea8-483c-a4c4-fe1966b0f5a8', metadata={'source': 'https://jestor.com/blog/comparing-tools/top-15-no-code-tools-in-2024-and-market-trends/'}, page_content=\"In today's digital world, no-code tools have revolutionized how businesses and individuals create applications and manage data. In 2024, the variety of these tools is more impressive than ever. This article will explore some of the leading no-code tools available on the market, evaluating their main features and limitations. No-Code Trends 2024\"),\n",
              " Document(id='f7d590c3-cf58-4872-9de8-596c9b014a7b', metadata={'source': 'https://lowcodenocode.org/blog/no-code-trends-shaping-2024/'}, page_content='Explore the key trends shaping the no code technology in 2024, from increased adoption by enterprises to the rise of citizen developers and integration with advanced technologies. ... Experts think the market for no code platforms will grow a lot, with a yearly growth rate of over 40% from 2021 to 2030. Year Projected Total Market Value; 2024 ...')]"
            ]
          },
          "execution_count": 32,
          "metadata": {},
          "output_type": "execute_result"
        }
      ],
      "source": [
        "retriever.invoke(\"enhancing API capabilities\")"
      ]
    },
    {
      "cell_type": "code",
      "execution_count": null,
      "metadata": {
        "id": "OFfPwF3cYoht"
      },
      "outputs": [],
      "source": [
        "class SubSection(BaseModel):\n",
        "    subsection_title: str = Field(..., title=\"Title of the subsection\")\n",
        "    content: str = Field(\n",
        "        ...,\n",
        "        title=\"Full content of the subsection. Include [#] citations to the cited sources where relevant.\",\n",
        "    )\n",
        "\n",
        "    @property\n",
        "    def as_str(self) -> str:\n",
        "        return f\"### {self.subsection_title}\\n\\n{self.content}\".strip()\n",
        "\n",
        "\n",
        "class WikiSection(BaseModel):\n",
        "    section_title: str = Field(..., title=\"Title of the section\")\n",
        "    content: str = Field(..., title=\"Full content of the section\")\n",
        "    subsections: Optional[List[Subsection]] = Field(\n",
        "        default=None,\n",
        "        title=\"Titles and descriptions for each subsection of the Wikipedia page.\",\n",
        "    )\n",
        "    citations: List[str] = Field(default_factory=list)\n",
        "\n",
        "    @property\n",
        "    def as_str(self) -> str:\n",
        "        subsections = \"\\n\\n\".join(\n",
        "            subsection.as_str for subsection in self.subsections or []\n",
        "        )\n",
        "        citations = \"\\n\".join([f\" [{i}] {cit}\" for i, cit in enumerate(self.citations)])\n",
        "        return (\n",
        "            f\"## {self.section_title}\\n\\n{self.content}\\n\\n{subsections}\".strip()\n",
        "            + f\"\\n\\n{citations}\".strip()\n",
        "        )\n",
        "\n",
        "\n",
        "section_writer_prompt = ChatPromptTemplate.from_messages(\n",
        "    [\n",
        "        (\n",
        "            \"system\",\n",
        "            \"You are an expert Wikipedia writer. Complete your assigned WikiSection from the following outline:\\n\\n\"\n",
        "            \"{outline}\\n\\nCite your sources, using the following references:\\n\\n<Documents>\\n{docs}\\n<Documents>\",\n",
        "        ),\n",
        "        (\"user\", \"Write the full WikiSection for the {section} section.\"),\n",
        "    ]\n",
        ")\n",
        "\n",
        "\n",
        "async def retrieve(inputs: dict):\n",
        "    docs = await retriever.ainvoke(inputs[\"topic\"] + \": \" + inputs[\"section\"])\n",
        "    formatted = \"\\n\".join(\n",
        "        [\n",
        "            f'<Document href=\"{doc.metadata[\"source\"]}\"/>\\n{doc.page_content}\\n</Document>'\n",
        "            for doc in docs\n",
        "        ]\n",
        "    )\n",
        "    return {\"docs\": formatted, **inputs}\n",
        "\n",
        "\n",
        "section_writer = (\n",
        "    retrieve\n",
        "    | section_writer_prompt\n",
        "    | long_context_llm.with_structured_output(WikiSection)\n",
        ")"
      ]
    },
    {
      "cell_type": "code",
      "execution_count": null,
      "metadata": {
        "colab": {
          "base_uri": "https://localhost:8080/"
        },
        "id": "rOdvsBEYYpzE",
        "outputId": "d083bbe0-e1ea-4cf7-8937-9fbb52d35cd1"
      },
      "outputs": [
        {
          "name": "stdout",
          "output_type": "stream",
          "text": [
            "## Understanding Quixy\n",
            "\n",
            "Quixy is a cloud-based no-code platform designed to empower businesses and individuals to build custom applications without the need for traditional coding expertise. It offers a comprehensive suite of tools that allow users to automate workflows, design rich user interfaces, and manage data effectively. Quixy is particularly well-suited for organizations looking to streamline operations and increase efficiency by enabling non-technical staff to create applications tailored to specific business needs. \n",
            "\n",
            "One of Quixy’s standout features is its intuitive drag-and-drop interface, which simplifies the development process and makes it accessible to users with varying levels of technical proficiency. This feature is complemented by a wide array of pre-built templates and integrations, which help users to quickly deploy applications while also ensuring compatibility with existing systems. Additionally, Quixy provides robust security measures and compliance standards, ensuring that applications built on the platform are secure and meet industry regulations.\n",
            "\n",
            "Quixy targets a diverse audience ranging from small and medium-sized enterprises (SMEs) to large corporations across various industries, including finance, healthcare, and retail. Its flexibility and scalability make it a viable solution for businesses looking to accelerate digital transformation and foster innovation without the overhead of traditional software development processes.\n"
          ]
        }
      ],
      "source": [
        "section = await section_writer.ainvoke(\n",
        "    {\n",
        "        \"outline\": refined_outline.as_str,\n",
        "        \"section\": refined_outline.sections[1].section_title,\n",
        "        \"topic\": example_topic,\n",
        "    }\n",
        ")\n",
        "print(section.as_str)"
      ]
    },
    {
      "cell_type": "code",
      "execution_count": null,
      "metadata": {
        "id": "FtxqkQxW5cez"
      },
      "outputs": [],
      "source": [
        "from langchain_core.output_parsers import StrOutputParser\n",
        "\n",
        "writer_prompt = ChatPromptTemplate.from_messages(\n",
        "    [\n",
        "        (\n",
        "            \"system\",\n",
        "            \"You are an expert Wikipedia author. Write the complete wiki article on {topic} using the following section drafts:\\n\\n\"\n",
        "            \"{draft}\\n\\nStrictly follow Wikipedia format guidelines.\",\n",
        "        ),\n",
        "        (\n",
        "            \"user\",\n",
        "            'Write the complete Wiki article using markdown format. Organize citations using footnotes like \"[1]\",'\n",
        "            \" avoiding duplicates in the footer. Include URLs in the footer.\",\n",
        "        ),\n",
        "    ]\n",
        ")\n",
        "\n",
        "writer = writer_prompt | long_context_llm | StrOutputParser()"
      ]
    },
    {
      "cell_type": "code",
      "execution_count": null,
      "metadata": {
        "colab": {
          "base_uri": "https://localhost:8080/"
        },
        "id": "wu9VIp3r5cAo",
        "outputId": "2c79b495-203e-44d2-f108-dc8645c03d8d"
      },
      "outputs": [
        {
          "name": "stdout",
          "output_type": "stream",
          "text": [
            "# Competitors of Quixy\n",
            "\n",
            "## Understanding Quixy\n",
            "\n",
            "Quixy is a cloud-based no-code platform designed to empower businesses and individuals to build custom applications without the need for traditional coding expertise. It offers a comprehensive suite of tools that allow users to automate workflows, design rich user interfaces, and manage data effectively. Quixy is particularly well-suited for organizations looking to streamline operations and increase efficiency by enabling non-technical staff to create applications tailored to specific business needs. \n",
            "\n",
            "One of Quixy’s standout features is its intuitive drag-and-drop interface, which simplifies the development process and makes it accessible to users with varying levels of technical proficiency. This feature is complemented by a wide array of pre-built templates and integrations, which help users to quickly deploy applications while also ensuring compatibility with existing systems. Additionally, Quixy provides robust security measures and compliance standards, ensuring that applications built on the platform are secure and meet industry regulations.\n",
            "\n",
            "Quixy targets a diverse audience ranging from small and medium-sized enterprises (SMEs) to large corporations across various industries, including finance, healthcare, and retail. Its flexibility and scalability make it a viable solution for businesses looking to accelerate digital transformation and foster innovation without the overhead of traditional software development processes.\n",
            "\n",
            "## Competitors of Quixy\n",
            "\n",
            "The no-code platform landscape is highly competitive, with numerous players offering various features and functionalities to meet the diverse needs of businesses. Some of the key competitors of Quixy include:\n",
            "\n",
            "### 1. **OutSystems**\n",
            "\n",
            "OutSystems is a leading no-code/low-code platform that facilitates rapid application development. It offers a visual development environment, enabling users to build applications with minimal coding. OutSystems is known for its strong integration capabilities, allowing seamless connectivity with existing enterprise systems. The platform is favored by businesses seeking to modernize legacy systems and develop scalable applications[1].\n",
            "\n",
            "### 2. **Appian**\n",
            "\n",
            "Appian provides a low-code platform with a focus on business process management and automation. It is designed to help organizations quickly build and deploy applications that improve operational efficiency. Appian's drag-and-drop interface and pre-built connectors make it a popular choice for enterprises aiming to streamline processes and enhance collaboration across departments[2].\n",
            "\n",
            "### 3. **Mendix**\n",
            "\n",
            "Mendix is a no-code/low-code platform that emphasizes collaboration between business and IT teams. It provides tools for rapid application development, deployment, and iteration. Mendix is recognized for its robust ecosystem and community support, which help users leverage shared knowledge and resources to build effective solutions. It is particularly popular among businesses seeking to accelerate digital transformation initiatives[3].\n",
            "\n",
            "### 4. **Betty Blocks**\n",
            "\n",
            "Betty Blocks is a cloud-based no-code platform that enables users to create applications without writing code. It offers a user-friendly interface and a strong focus on empowering non-technical users to bring their ideas to life. Betty Blocks is suitable for organizations that prioritize innovation and agility in their application development processes[4].\n",
            "\n",
            "### 5. **Bubble**\n",
            "\n",
            "Bubble is a versatile no-code platform aimed at entrepreneurs and startups, allowing them to create web applications with a wide range of functionalities. It provides a visual editor and a marketplace of plugins, making it easy for users to customize their applications. Bubble is often chosen by small businesses looking to quickly launch and iterate on their digital products[5].\n",
            "\n",
            "### 6. **Zoho Creator**\n",
            "\n",
            "Zoho Creator is a part of the Zoho suite of applications, providing a no-code platform for building custom applications. It features an intuitive interface and a vast library of pre-built applications and widgets. Zoho Creator is well-regarded for its integration capabilities with other Zoho products and third-party services, making it ideal for businesses looking to enhance their workflows and data management[6].\n",
            "\n",
            "## References\n",
            "\n",
            "[1] OutSystems: https://www.outsystems.com\n",
            "\n",
            "[2] Appian: https://www.appian.com\n",
            "\n",
            "[3] Mendix: https://www.mendix.com\n",
            "\n",
            "[4] Betty Blocks: https://www.bettyblocks.com\n",
            "\n",
            "[5] Bubble: https://bubble.io\n",
            "\n",
            "[6] Zoho Creator: https://www.zoho.com/creator"
          ]
        }
      ],
      "source": [
        "for tok in writer.stream({\"topic\": example_topic, \"draft\": section.as_str}):\n",
        "    print(tok, end=\"\")"
      ]
    },
    {
      "cell_type": "code",
      "execution_count": null,
      "metadata": {
        "id": "PyShfatO5b7P"
      },
      "outputs": [],
      "source": [
        "class ResearchState(TypedDict):\n",
        "    topic: str\n",
        "    outline: Outline\n",
        "    editors: List[Editor]\n",
        "    interview_results: List[InterviewState]\n",
        "    # The final sections output\n",
        "    sections: List[WikiSection]\n",
        "    article: str"
      ]
    },
    {
      "cell_type": "code",
      "execution_count": null,
      "metadata": {
        "id": "gtxLCHmI5b4s"
      },
      "outputs": [],
      "source": [
        "import asyncio\n",
        "\n",
        "\n",
        "async def initialize_research(state: ResearchState):\n",
        "    topic = state[\"topic\"]\n",
        "    coros = (\n",
        "        generate_outline_direct.ainvoke({\"topic\": topic}),\n",
        "        survey_subjects.ainvoke(topic),\n",
        "    )\n",
        "    results = await asyncio.gather(*coros)\n",
        "    return {\n",
        "        **state,\n",
        "        \"outline\": results[0],\n",
        "        \"editors\": results[1].editors,\n",
        "    }\n",
        "\n",
        "\n",
        "async def conduct_interviews(state: ResearchState):\n",
        "    topic = state[\"topic\"]\n",
        "    initial_states = [\n",
        "        {\n",
        "            \"editor\": editor,\n",
        "            \"messages\": [\n",
        "                AIMessage(\n",
        "                    content=f\"So you said you were writing an article on {topic}?\",\n",
        "                    name=\"Subject_Matter_Expert\",\n",
        "                )\n",
        "            ],\n",
        "        }\n",
        "        for editor in state[\"editors\"]\n",
        "    ]\n",
        "    # We call in to the sub-graph here to parallelize the interviews\n",
        "    interview_results = await interview_graph.abatch(initial_states)\n",
        "\n",
        "    return {\n",
        "        **state,\n",
        "        \"interview_results\": interview_results,\n",
        "    }\n",
        "\n",
        "\n",
        "def format_conversation(interview_state):\n",
        "    messages = interview_state[\"messages\"]\n",
        "    convo = \"\\n\".join(f\"{m.name}: {m.content}\" for m in messages)\n",
        "    return f'Conversation with {interview_state[\"editor\"].name}\\n\\n' + convo\n",
        "\n",
        "\n",
        "async def refine_outline(state: ResearchState):\n",
        "    convos = \"\\n\\n\".join(\n",
        "        [\n",
        "            format_conversation(interview_state)\n",
        "            for interview_state in state[\"interview_results\"]\n",
        "        ]\n",
        "    )\n",
        "\n",
        "    updated_outline = await refine_outline_chain.ainvoke(\n",
        "        {\n",
        "            \"topic\": state[\"topic\"],\n",
        "            \"old_outline\": state[\"outline\"].as_str,\n",
        "            \"conversations\": convos,\n",
        "        }\n",
        "    )\n",
        "    return {**state, \"outline\": updated_outline}\n",
        "\n",
        "\n",
        "async def index_references(state: ResearchState):\n",
        "    all_docs = []\n",
        "    for interview_state in state[\"interview_results\"]:\n",
        "        reference_docs = [\n",
        "            Document(page_content=v, metadata={\"source\": k})\n",
        "            for k, v in interview_state[\"references\"].items()\n",
        "        ]\n",
        "        all_docs.extend(reference_docs)\n",
        "    await vectorstore.aadd_documents(all_docs)\n",
        "    return state\n",
        "\n",
        "\n",
        "async def write_sections(state: ResearchState):\n",
        "    outline = state[\"outline\"]\n",
        "    sections = await section_writer.abatch(\n",
        "        [\n",
        "            {\n",
        "                \"outline\": refined_outline.as_str,\n",
        "                \"section\": section.section_title,\n",
        "                \"topic\": state[\"topic\"],\n",
        "            }\n",
        "            for section in outline.sections\n",
        "        ]\n",
        "    )\n",
        "    return {\n",
        "        **state,\n",
        "        \"sections\": sections,\n",
        "    }\n",
        "\n",
        "\n",
        "async def write_article(state: ResearchState):\n",
        "    topic = state[\"topic\"]\n",
        "    sections = state[\"sections\"]\n",
        "    draft = \"\\n\\n\".join([section.as_str for section in sections])\n",
        "    article = await writer.ainvoke({\"topic\": topic, \"draft\": draft})\n",
        "    return {\n",
        "        **state,\n",
        "        \"article\": article,\n",
        "    }"
      ]
    },
    {
      "cell_type": "code",
      "execution_count": null,
      "metadata": {
        "id": "2jROYm0vlu2u"
      },
      "outputs": [],
      "source": [
        "from langgraph.checkpoint.memory import MemorySaver\n",
        "\n",
        "builder_of_storm = StateGraph(ResearchState)\n",
        "\n",
        "nodes = [\n",
        "    (\"init_research\", initialize_research),\n",
        "    (\"conduct_interviews\", conduct_interviews),\n",
        "    (\"refine_outline\", refine_outline),\n",
        "    (\"index_references\", index_references),\n",
        "    (\"write_sections\", write_sections),\n",
        "    (\"write_article\", write_article),\n",
        "]\n",
        "for i in range(len(nodes)):\n",
        "    name, node = nodes[i]\n",
        "    builder_of_storm.add_node(name, node, retry=RetryPolicy(max_attempts=3))\n",
        "    if i > 0:\n",
        "        builder_of_storm.add_edge(nodes[i - 1][0], name)\n",
        "\n",
        "builder_of_storm.add_edge(START, nodes[0][0])\n",
        "builder_of_storm.add_edge(nodes[-1][0], END)\n",
        "storm = builder_of_storm.compile(checkpointer=MemorySaver())"
      ]
    },
    {
      "cell_type": "code",
      "execution_count": null,
      "metadata": {
        "colab": {
          "base_uri": "https://localhost:8080/",
          "height": 747
        },
        "id": "QO5P3cpslu0l",
        "outputId": "27a709e2-684a-4265-89dc-2240f63b5e82"
      },
      "outputs": [
        {
          "data": {
            "image/png": "[encoded data removed]",
            "text/plain": [
              "<IPython.core.display.Image object>"
            ]
          },
          "metadata": {},
          "output_type": "display_data"
        }
      ],
      "source": [
        "from IPython.display import Image, display\n",
        "\n",
        "try:\n",
        "    display(Image(storm.get_graph().draw_mermaid_png()))\n",
        "except Exception:\n",
        "    # This requires some extra dependencies and is optional\n",
        "    pass"
      ]
    },
    {
      "cell_type": "code",
      "execution_count": null,
      "metadata": {
        "colab": {
          "base_uri": "https://localhost:8080/"
        },
        "id": "o7GMIDxeluyb",
        "outputId": "55497b92-931d-45f9-d544-e4d85f4bf62f"
      },
      "outputs": [
        {
          "name": "stderr",
          "output_type": "stream",
          "text": [
            "/opt/anaconda3/lib/python3.10/site-packages/wikipedia/wikipedia.py:389: GuessedAtParserWarning: No parser was explicitly specified, so I'm using the best available HTML parser for this system (\"lxml\"). This usually isn't a problem, but if you run this code on another system, or in a different virtual environment, it may use a different parser and behave differently.\n",
            "\n",
            "The code that caused this warning is on line 389 of the file /opt/anaconda3/lib/python3.10/site-packages/wikipedia/wikipedia.py. To get rid of this warning, pass the additional argument 'features=\"lxml\"' to the BeautifulSoup constructor.\n",
            "\n",
            "  lis = BeautifulSoup(html).find_all('li')\n"
          ]
        },
        {
          "name": "stdout",
          "output_type": "stream",
          "text": [
            "init_research\n",
            "--  {'topic': 'market analysis for Quixy', 'outline': Outline(page_title='Market Analysis for Quixy', sections=[Section(section_title='Introduction', description='A brief overview of Quixy and its significance in the market.', subsections=None), Section(section_title='Company Overview', description='An \n"
          ]
        },
        {
          "name": "stderr",
          "output_type": "stream",
          "text": [
            "/var/folders/_c/_wx3_r550ylgdgq0h4q8sllw0000gn/T/ipykernel_1740/2208026300.py:35: PydanticDeprecatedSince20: The `dict` method is deprecated; use `model_dump` instead. Deprecated in Pydantic V2.0 to be removed in V3.0. See Pydantic V2 Migration Guide at https://errors.pydantic.dev/2.10/migration/\n",
            "  message = HumanMessage(**message.dict(exclude={\"type\"}))\n",
            "/var/folders/_c/_wx3_r550ylgdgq0h4q8sllw0000gn/T/ipykernel_1740/2208026300.py:35: PydanticDeprecatedSince20: The `dict` method is deprecated; use `model_dump` instead. Deprecated in Pydantic V2.0 to be removed in V3.0. See Pydantic V2 Migration Guide at https://errors.pydantic.dev/2.10/migration/\n",
            "  message = HumanMessage(**message.dict(exclude={\"type\"}))\n",
            "/var/folders/_c/_wx3_r550ylgdgq0h4q8sllw0000gn/T/ipykernel_1740/2208026300.py:35: PydanticDeprecatedSince20: The `dict` method is deprecated; use `model_dump` instead. Deprecated in Pydantic V2.0 to be removed in V3.0. See Pydantic V2 Migration Guide at https://errors.pydantic.dev/2.10/migration/\n",
            "  message = HumanMessage(**message.dict(exclude={\"type\"}))\n",
            "/var/folders/_c/_wx3_r550ylgdgq0h4q8sllw0000gn/T/ipykernel_1740/2208026300.py:35: PydanticDeprecatedSince20: The `dict` method is deprecated; use `model_dump` instead. Deprecated in Pydantic V2.0 to be removed in V3.0. See Pydantic V2 Migration Guide at https://errors.pydantic.dev/2.10/migration/\n",
            "  message = HumanMessage(**message.dict(exclude={\"type\"}))\n",
            "/var/folders/_c/_wx3_r550ylgdgq0h4q8sllw0000gn/T/ipykernel_1740/2208026300.py:35: PydanticDeprecatedSince20: The `dict` method is deprecated; use `model_dump` instead. Deprecated in Pydantic V2.0 to be removed in V3.0. See Pydantic V2 Migration Guide at https://errors.pydantic.dev/2.10/migration/\n",
            "  message = HumanMessage(**message.dict(exclude={\"type\"}))\n",
            "/var/folders/_c/_wx3_r550ylgdgq0h4q8sllw0000gn/T/ipykernel_1740/2208026300.py:35: PydanticDeprecatedSince20: The `dict` method is deprecated; use `model_dump` instead. Deprecated in Pydantic V2.0 to be removed in V3.0. See Pydantic V2 Migration Guide at https://errors.pydantic.dev/2.10/migration/\n",
            "  message = HumanMessage(**message.dict(exclude={\"type\"}))\n",
            "/var/folders/_c/_wx3_r550ylgdgq0h4q8sllw0000gn/T/ipykernel_1740/2208026300.py:35: PydanticDeprecatedSince20: The `dict` method is deprecated; use `model_dump` instead. Deprecated in Pydantic V2.0 to be removed in V3.0. See Pydantic V2 Migration Guide at https://errors.pydantic.dev/2.10/migration/\n",
            "  message = HumanMessage(**message.dict(exclude={\"type\"}))\n",
            "/var/folders/_c/_wx3_r550ylgdgq0h4q8sllw0000gn/T/ipykernel_1740/2208026300.py:35: PydanticDeprecatedSince20: The `dict` method is deprecated; use `model_dump` instead. Deprecated in Pydantic V2.0 to be removed in V3.0. See Pydantic V2 Migration Guide at https://errors.pydantic.dev/2.10/migration/\n",
            "  message = HumanMessage(**message.dict(exclude={\"type\"}))\n",
            "/var/folders/_c/_wx3_r550ylgdgq0h4q8sllw0000gn/T/ipykernel_1740/2208026300.py:35: PydanticDeprecatedSince20: The `dict` method is deprecated; use `model_dump` instead. Deprecated in Pydantic V2.0 to be removed in V3.0. See Pydantic V2 Migration Guide at https://errors.pydantic.dev/2.10/migration/\n",
            "  message = HumanMessage(**message.dict(exclude={\"type\"}))\n",
            "/var/folders/_c/_wx3_r550ylgdgq0h4q8sllw0000gn/T/ipykernel_1740/2208026300.py:35: PydanticDeprecatedSince20: The `dict` method is deprecated; use `model_dump` instead. Deprecated in Pydantic V2.0 to be removed in V3.0. See Pydantic V2 Migration Guide at https://errors.pydantic.dev/2.10/migration/\n",
            "  message = HumanMessage(**message.dict(exclude={\"type\"}))\n",
            "/var/folders/_c/_wx3_r550ylgdgq0h4q8sllw0000gn/T/ipykernel_1740/2208026300.py:35: PydanticDeprecatedSince20: The `dict` method is deprecated; use `model_dump` instead. Deprecated in Pydantic V2.0 to be removed in V3.0. See Pydantic V2 Migration Guide at https://errors.pydantic.dev/2.10/migration/\n",
            "  message = HumanMessage(**message.dict(exclude={\"type\"}))\n",
            "/var/folders/_c/_wx3_r550ylgdgq0h4q8sllw0000gn/T/ipykernel_1740/2208026300.py:35: PydanticDeprecatedSince20: The `dict` method is deprecated; use `model_dump` instead. Deprecated in Pydantic V2.0 to be removed in V3.0. See Pydantic V2 Migration Guide at https://errors.pydantic.dev/2.10/migration/\n",
            "  message = HumanMessage(**message.dict(exclude={\"type\"}))\n",
            "/var/folders/_c/_wx3_r550ylgdgq0h4q8sllw0000gn/T/ipykernel_1740/2208026300.py:35: PydanticDeprecatedSince20: The `dict` method is deprecated; use `model_dump` instead. Deprecated in Pydantic V2.0 to be removed in V3.0. See Pydantic V2 Migration Guide at https://errors.pydantic.dev/2.10/migration/\n",
            "  message = HumanMessage(**message.dict(exclude={\"type\"}))\n",
            "/var/folders/_c/_wx3_r550ylgdgq0h4q8sllw0000gn/T/ipykernel_1740/2208026300.py:35: PydanticDeprecatedSince20: The `dict` method is deprecated; use `model_dump` instead. Deprecated in Pydantic V2.0 to be removed in V3.0. See Pydantic V2 Migration Guide at https://errors.pydantic.dev/2.10/migration/\n",
            "  message = HumanMessage(**message.dict(exclude={\"type\"}))\n",
            "/var/folders/_c/_wx3_r550ylgdgq0h4q8sllw0000gn/T/ipykernel_1740/2208026300.py:35: PydanticDeprecatedSince20: The `dict` method is deprecated; use `model_dump` instead. Deprecated in Pydantic V2.0 to be removed in V3.0. See Pydantic V2 Migration Guide at https://errors.pydantic.dev/2.10/migration/\n",
            "  message = HumanMessage(**message.dict(exclude={\"type\"}))\n",
            "/var/folders/_c/_wx3_r550ylgdgq0h4q8sllw0000gn/T/ipykernel_1740/2208026300.py:35: PydanticDeprecatedSince20: The `dict` method is deprecated; use `model_dump` instead. Deprecated in Pydantic V2.0 to be removed in V3.0. See Pydantic V2 Migration Guide at https://errors.pydantic.dev/2.10/migration/\n",
            "  message = HumanMessage(**message.dict(exclude={\"type\"}))\n",
            "/var/folders/_c/_wx3_r550ylgdgq0h4q8sllw0000gn/T/ipykernel_1740/2208026300.py:35: PydanticDeprecatedSince20: The `dict` method is deprecated; use `model_dump` instead. Deprecated in Pydantic V2.0 to be removed in V3.0. See Pydantic V2 Migration Guide at https://errors.pydantic.dev/2.10/migration/\n",
            "  message = HumanMessage(**message.dict(exclude={\"type\"}))\n",
            "/var/folders/_c/_wx3_r550ylgdgq0h4q8sllw0000gn/T/ipykernel_1740/2208026300.py:35: PydanticDeprecatedSince20: The `dict` method is deprecated; use `model_dump` instead. Deprecated in Pydantic V2.0 to be removed in V3.0. See Pydantic V2 Migration Guide at https://errors.pydantic.dev/2.10/migration/\n",
            "  message = HumanMessage(**message.dict(exclude={\"type\"}))\n",
            "/var/folders/_c/_wx3_r550ylgdgq0h4q8sllw0000gn/T/ipykernel_1740/2208026300.py:35: PydanticDeprecatedSince20: The `dict` method is deprecated; use `model_dump` instead. Deprecated in Pydantic V2.0 to be removed in V3.0. See Pydantic V2 Migration Guide at https://errors.pydantic.dev/2.10/migration/\n",
            "  message = HumanMessage(**message.dict(exclude={\"type\"}))\n",
            "/var/folders/_c/_wx3_r550ylgdgq0h4q8sllw0000gn/T/ipykernel_1740/2208026300.py:35: PydanticDeprecatedSince20: The `dict` method is deprecated; use `model_dump` instead. Deprecated in Pydantic V2.0 to be removed in V3.0. See Pydantic V2 Migration Guide at https://errors.pydantic.dev/2.10/migration/\n",
            "  message = HumanMessage(**message.dict(exclude={\"type\"}))\n",
            "/var/folders/_c/_wx3_r550ylgdgq0h4q8sllw0000gn/T/ipykernel_1740/2208026300.py:35: PydanticDeprecatedSince20: The `dict` method is deprecated; use `model_dump` instead. Deprecated in Pydantic V2.0 to be removed in V3.0. See Pydantic V2 Migration Guide at https://errors.pydantic.dev/2.10/migration/\n",
            "  message = HumanMessage(**message.dict(exclude={\"type\"}))\n",
            "/var/folders/_c/_wx3_r550ylgdgq0h4q8sllw0000gn/T/ipykernel_1740/2208026300.py:35: PydanticDeprecatedSince20: The `dict` method is deprecated; use `model_dump` instead. Deprecated in Pydantic V2.0 to be removed in V3.0. See Pydantic V2 Migration Guide at https://errors.pydantic.dev/2.10/migration/\n",
            "  message = HumanMessage(**message.dict(exclude={\"type\"}))\n",
            "/var/folders/_c/_wx3_r550ylgdgq0h4q8sllw0000gn/T/ipykernel_1740/2208026300.py:35: PydanticDeprecatedSince20: The `dict` method is deprecated; use `model_dump` instead. Deprecated in Pydantic V2.0 to be removed in V3.0. See Pydantic V2 Migration Guide at https://errors.pydantic.dev/2.10/migration/\n",
            "  message = HumanMessage(**message.dict(exclude={\"type\"}))\n",
            "/var/folders/_c/_wx3_r550ylgdgq0h4q8sllw0000gn/T/ipykernel_1740/2208026300.py:35: PydanticDeprecatedSince20: The `dict` method is deprecated; use `model_dump` instead. Deprecated in Pydantic V2.0 to be removed in V3.0. See Pydantic V2 Migration Guide at https://errors.pydantic.dev/2.10/migration/\n",
            "  message = HumanMessage(**message.dict(exclude={\"type\"}))\n",
            "/var/folders/_c/_wx3_r550ylgdgq0h4q8sllw0000gn/T/ipykernel_1740/2208026300.py:35: PydanticDeprecatedSince20: The `dict` method is deprecated; use `model_dump` instead. Deprecated in Pydantic V2.0 to be removed in V3.0. See Pydantic V2 Migration Guide at https://errors.pydantic.dev/2.10/migration/\n",
            "  message = HumanMessage(**message.dict(exclude={\"type\"}))\n",
            "/var/folders/_c/_wx3_r550ylgdgq0h4q8sllw0000gn/T/ipykernel_1740/2208026300.py:35: PydanticDeprecatedSince20: The `dict` method is deprecated; use `model_dump` instead. Deprecated in Pydantic V2.0 to be removed in V3.0. See Pydantic V2 Migration Guide at https://errors.pydantic.dev/2.10/migration/\n",
            "  message = HumanMessage(**message.dict(exclude={\"type\"}))\n",
            "/var/folders/_c/_wx3_r550ylgdgq0h4q8sllw0000gn/T/ipykernel_1740/2208026300.py:35: PydanticDeprecatedSince20: The `dict` method is deprecated; use `model_dump` instead. Deprecated in Pydantic V2.0 to be removed in V3.0. See Pydantic V2 Migration Guide at https://errors.pydantic.dev/2.10/migration/\n",
            "  message = HumanMessage(**message.dict(exclude={\"type\"}))\n",
            "/var/folders/_c/_wx3_r550ylgdgq0h4q8sllw0000gn/T/ipykernel_1740/2208026300.py:35: PydanticDeprecatedSince20: The `dict` method is deprecated; use `model_dump` instead. Deprecated in Pydantic V2.0 to be removed in V3.0. See Pydantic V2 Migration Guide at https://errors.pydantic.dev/2.10/migration/\n",
            "  message = HumanMessage(**message.dict(exclude={\"type\"}))\n",
            "/var/folders/_c/_wx3_r550ylgdgq0h4q8sllw0000gn/T/ipykernel_1740/2208026300.py:35: PydanticDeprecatedSince20: The `dict` method is deprecated; use `model_dump` instead. Deprecated in Pydantic V2.0 to be removed in V3.0. See Pydantic V2 Migration Guide at https://errors.pydantic.dev/2.10/migration/\n",
            "  message = HumanMessage(**message.dict(exclude={\"type\"}))\n",
            "/var/folders/_c/_wx3_r550ylgdgq0h4q8sllw0000gn/T/ipykernel_1740/2208026300.py:35: PydanticDeprecatedSince20: The `dict` method is deprecated; use `model_dump` instead. Deprecated in Pydantic V2.0 to be removed in V3.0. See Pydantic V2 Migration Guide at https://errors.pydantic.dev/2.10/migration/\n",
            "  message = HumanMessage(**message.dict(exclude={\"type\"}))\n",
            "/var/folders/_c/_wx3_r550ylgdgq0h4q8sllw0000gn/T/ipykernel_1740/2208026300.py:35: PydanticDeprecatedSince20: The `dict` method is deprecated; use `model_dump` instead. Deprecated in Pydantic V2.0 to be removed in V3.0. See Pydantic V2 Migration Guide at https://errors.pydantic.dev/2.10/migration/\n",
            "  message = HumanMessage(**message.dict(exclude={\"type\"}))\n",
            "/var/folders/_c/_wx3_r550ylgdgq0h4q8sllw0000gn/T/ipykernel_1740/2208026300.py:35: PydanticDeprecatedSince20: The `dict` method is deprecated; use `model_dump` instead. Deprecated in Pydantic V2.0 to be removed in V3.0. See Pydantic V2 Migration Guide at https://errors.pydantic.dev/2.10/migration/\n",
            "  message = HumanMessage(**message.dict(exclude={\"type\"}))\n",
            "/var/folders/_c/_wx3_r550ylgdgq0h4q8sllw0000gn/T/ipykernel_1740/2208026300.py:35: PydanticDeprecatedSince20: The `dict` method is deprecated; use `model_dump` instead. Deprecated in Pydantic V2.0 to be removed in V3.0. See Pydantic V2 Migration Guide at https://errors.pydantic.dev/2.10/migration/\n",
            "  message = HumanMessage(**message.dict(exclude={\"type\"}))\n",
            "/var/folders/_c/_wx3_r550ylgdgq0h4q8sllw0000gn/T/ipykernel_1740/2208026300.py:35: PydanticDeprecatedSince20: The `dict` method is deprecated; use `model_dump` instead. Deprecated in Pydantic V2.0 to be removed in V3.0. See Pydantic V2 Migration Guide at https://errors.pydantic.dev/2.10/migration/\n",
            "  message = HumanMessage(**message.dict(exclude={\"type\"}))\n",
            "/var/folders/_c/_wx3_r550ylgdgq0h4q8sllw0000gn/T/ipykernel_1740/2208026300.py:35: PydanticDeprecatedSince20: The `dict` method is deprecated; use `model_dump` instead. Deprecated in Pydantic V2.0 to be removed in V3.0. See Pydantic V2 Migration Guide at https://errors.pydantic.dev/2.10/migration/\n",
            "  message = HumanMessage(**message.dict(exclude={\"type\"}))\n",
            "/var/folders/_c/_wx3_r550ylgdgq0h4q8sllw0000gn/T/ipykernel_1740/2208026300.py:35: PydanticDeprecatedSince20: The `dict` method is deprecated; use `model_dump` instead. Deprecated in Pydantic V2.0 to be removed in V3.0. See Pydantic V2 Migration Guide at https://errors.pydantic.dev/2.10/migration/\n",
            "  message = HumanMessage(**message.dict(exclude={\"type\"}))\n",
            "/var/folders/_c/_wx3_r550ylgdgq0h4q8sllw0000gn/T/ipykernel_1740/2208026300.py:35: PydanticDeprecatedSince20: The `dict` method is deprecated; use `model_dump` instead. Deprecated in Pydantic V2.0 to be removed in V3.0. See Pydantic V2 Migration Guide at https://errors.pydantic.dev/2.10/migration/\n",
            "  message = HumanMessage(**message.dict(exclude={\"type\"}))\n",
            "/var/folders/_c/_wx3_r550ylgdgq0h4q8sllw0000gn/T/ipykernel_1740/2208026300.py:35: PydanticDeprecatedSince20: The `dict` method is deprecated; use `model_dump` instead. Deprecated in Pydantic V2.0 to be removed in V3.0. See Pydantic V2 Migration Guide at https://errors.pydantic.dev/2.10/migration/\n",
            "  message = HumanMessage(**message.dict(exclude={\"type\"}))\n",
            "/var/folders/_c/_wx3_r550ylgdgq0h4q8sllw0000gn/T/ipykernel_1740/2208026300.py:35: PydanticDeprecatedSince20: The `dict` method is deprecated; use `model_dump` instead. Deprecated in Pydantic V2.0 to be removed in V3.0. See Pydantic V2 Migration Guide at https://errors.pydantic.dev/2.10/migration/\n",
            "  message = HumanMessage(**message.dict(exclude={\"type\"}))\n",
            "/var/folders/_c/_wx3_r550ylgdgq0h4q8sllw0000gn/T/ipykernel_1740/2208026300.py:35: PydanticDeprecatedSince20: The `dict` method is deprecated; use `model_dump` instead. Deprecated in Pydantic V2.0 to be removed in V3.0. See Pydantic V2 Migration Guide at https://errors.pydantic.dev/2.10/migration/\n",
            "  message = HumanMessage(**message.dict(exclude={\"type\"}))\n",
            "/var/folders/_c/_wx3_r550ylgdgq0h4q8sllw0000gn/T/ipykernel_1740/2208026300.py:35: PydanticDeprecatedSince20: The `dict` method is deprecated; use `model_dump` instead. Deprecated in Pydantic V2.0 to be removed in V3.0. See Pydantic V2 Migration Guide at https://errors.pydantic.dev/2.10/migration/\n",
            "  message = HumanMessage(**message.dict(exclude={\"type\"}))\n",
            "/var/folders/_c/_wx3_r550ylgdgq0h4q8sllw0000gn/T/ipykernel_1740/2208026300.py:35: PydanticDeprecatedSince20: The `dict` method is deprecated; use `model_dump` instead. Deprecated in Pydantic V2.0 to be removed in V3.0. See Pydantic V2 Migration Guide at https://errors.pydantic.dev/2.10/migration/\n",
            "  message = HumanMessage(**message.dict(exclude={\"type\"}))\n",
            "/var/folders/_c/_wx3_r550ylgdgq0h4q8sllw0000gn/T/ipykernel_1740/2208026300.py:35: PydanticDeprecatedSince20: The `dict` method is deprecated; use `model_dump` instead. Deprecated in Pydantic V2.0 to be removed in V3.0. See Pydantic V2 Migration Guide at https://errors.pydantic.dev/2.10/migration/\n",
            "  message = HumanMessage(**message.dict(exclude={\"type\"}))\n",
            "/var/folders/_c/_wx3_r550ylgdgq0h4q8sllw0000gn/T/ipykernel_1740/2208026300.py:35: PydanticDeprecatedSince20: The `dict` method is deprecated; use `model_dump` instead. Deprecated in Pydantic V2.0 to be removed in V3.0. See Pydantic V2 Migration Guide at https://errors.pydantic.dev/2.10/migration/\n",
            "  message = HumanMessage(**message.dict(exclude={\"type\"}))\n",
            "/var/folders/_c/_wx3_r550ylgdgq0h4q8sllw0000gn/T/ipykernel_1740/2208026300.py:35: PydanticDeprecatedSince20: The `dict` method is deprecated; use `model_dump` instead. Deprecated in Pydantic V2.0 to be removed in V3.0. See Pydantic V2 Migration Guide at https://errors.pydantic.dev/2.10/migration/\n",
            "  message = HumanMessage(**message.dict(exclude={\"type\"}))\n",
            "/var/folders/_c/_wx3_r550ylgdgq0h4q8sllw0000gn/T/ipykernel_1740/2208026300.py:35: PydanticDeprecatedSince20: The `dict` method is deprecated; use `model_dump` instead. Deprecated in Pydantic V2.0 to be removed in V3.0. See Pydantic V2 Migration Guide at https://errors.pydantic.dev/2.10/migration/\n",
            "  message = HumanMessage(**message.dict(exclude={\"type\"}))\n",
            "/var/folders/_c/_wx3_r550ylgdgq0h4q8sllw0000gn/T/ipykernel_1740/2208026300.py:35: PydanticDeprecatedSince20: The `dict` method is deprecated; use `model_dump` instead. Deprecated in Pydantic V2.0 to be removed in V3.0. See Pydantic V2 Migration Guide at https://errors.pydantic.dev/2.10/migration/\n",
            "  message = HumanMessage(**message.dict(exclude={\"type\"}))\n",
            "/var/folders/_c/_wx3_r550ylgdgq0h4q8sllw0000gn/T/ipykernel_1740/2208026300.py:35: PydanticDeprecatedSince20: The `dict` method is deprecated; use `model_dump` instead. Deprecated in Pydantic V2.0 to be removed in V3.0. See Pydantic V2 Migration Guide at https://errors.pydantic.dev/2.10/migration/\n",
            "  message = HumanMessage(**message.dict(exclude={\"type\"}))\n",
            "/var/folders/_c/_wx3_r550ylgdgq0h4q8sllw0000gn/T/ipykernel_1740/2208026300.py:35: PydanticDeprecatedSince20: The `dict` method is deprecated; use `model_dump` instead. Deprecated in Pydantic V2.0 to be removed in V3.0. See Pydantic V2 Migration Guide at https://errors.pydantic.dev/2.10/migration/\n",
            "  message = HumanMessage(**message.dict(exclude={\"type\"}))\n",
            "/var/folders/_c/_wx3_r550ylgdgq0h4q8sllw0000gn/T/ipykernel_1740/2208026300.py:35: PydanticDeprecatedSince20: The `dict` method is deprecated; use `model_dump` instead. Deprecated in Pydantic V2.0 to be removed in V3.0. See Pydantic V2 Migration Guide at https://errors.pydantic.dev/2.10/migration/\n",
            "  message = HumanMessage(**message.dict(exclude={\"type\"}))\n",
            "/var/folders/_c/_wx3_r550ylgdgq0h4q8sllw0000gn/T/ipykernel_1740/2208026300.py:35: PydanticDeprecatedSince20: The `dict` method is deprecated; use `model_dump` instead. Deprecated in Pydantic V2.0 to be removed in V3.0. See Pydantic V2 Migration Guide at https://errors.pydantic.dev/2.10/migration/\n",
            "  message = HumanMessage(**message.dict(exclude={\"type\"}))\n",
            "/var/folders/_c/_wx3_r550ylgdgq0h4q8sllw0000gn/T/ipykernel_1740/2208026300.py:35: PydanticDeprecatedSince20: The `dict` method is deprecated; use `model_dump` instead. Deprecated in Pydantic V2.0 to be removed in V3.0. See Pydantic V2 Migration Guide at https://errors.pydantic.dev/2.10/migration/\n",
            "  message = HumanMessage(**message.dict(exclude={\"type\"}))\n",
            "/var/folders/_c/_wx3_r550ylgdgq0h4q8sllw0000gn/T/ipykernel_1740/2208026300.py:35: PydanticDeprecatedSince20: The `dict` method is deprecated; use `model_dump` instead. Deprecated in Pydantic V2.0 to be removed in V3.0. See Pydantic V2 Migration Guide at https://errors.pydantic.dev/2.10/migration/\n",
            "  message = HumanMessage(**message.dict(exclude={\"type\"}))\n",
            "/var/folders/_c/_wx3_r550ylgdgq0h4q8sllw0000gn/T/ipykernel_1740/2208026300.py:35: PydanticDeprecatedSince20: The `dict` method is deprecated; use `model_dump` instead. Deprecated in Pydantic V2.0 to be removed in V3.0. See Pydantic V2 Migration Guide at https://errors.pydantic.dev/2.10/migration/\n",
            "  message = HumanMessage(**message.dict(exclude={\"type\"}))\n",
            "/var/folders/_c/_wx3_r550ylgdgq0h4q8sllw0000gn/T/ipykernel_1740/2208026300.py:35: PydanticDeprecatedSince20: The `dict` method is deprecated; use `model_dump` instead. Deprecated in Pydantic V2.0 to be removed in V3.0. See Pydantic V2 Migration Guide at https://errors.pydantic.dev/2.10/migration/\n",
            "  message = HumanMessage(**message.dict(exclude={\"type\"}))\n",
            "/var/folders/_c/_wx3_r550ylgdgq0h4q8sllw0000gn/T/ipykernel_1740/2208026300.py:35: PydanticDeprecatedSince20: The `dict` method is deprecated; use `model_dump` instead. Deprecated in Pydantic V2.0 to be removed in V3.0. See Pydantic V2 Migration Guide at https://errors.pydantic.dev/2.10/migration/\n",
            "  message = HumanMessage(**message.dict(exclude={\"type\"}))\n",
            "/var/folders/_c/_wx3_r550ylgdgq0h4q8sllw0000gn/T/ipykernel_1740/2208026300.py:35: PydanticDeprecatedSince20: The `dict` method is deprecated; use `model_dump` instead. Deprecated in Pydantic V2.0 to be removed in V3.0. See Pydantic V2 Migration Guide at https://errors.pydantic.dev/2.10/migration/\n",
            "  message = HumanMessage(**message.dict(exclude={\"type\"}))\n",
            "/var/folders/_c/_wx3_r550ylgdgq0h4q8sllw0000gn/T/ipykernel_1740/2208026300.py:35: PydanticDeprecatedSince20: The `dict` method is deprecated; use `model_dump` instead. Deprecated in Pydantic V2.0 to be removed in V3.0. See Pydantic V2 Migration Guide at https://errors.pydantic.dev/2.10/migration/\n",
            "  message = HumanMessage(**message.dict(exclude={\"type\"}))\n",
            "/var/folders/_c/_wx3_r550ylgdgq0h4q8sllw0000gn/T/ipykernel_1740/2208026300.py:35: PydanticDeprecatedSince20: The `dict` method is deprecated; use `model_dump` instead. Deprecated in Pydantic V2.0 to be removed in V3.0. See Pydantic V2 Migration Guide at https://errors.pydantic.dev/2.10/migration/\n",
            "  message = HumanMessage(**message.dict(exclude={\"type\"}))\n",
            "/var/folders/_c/_wx3_r550ylgdgq0h4q8sllw0000gn/T/ipykernel_1740/2208026300.py:35: PydanticDeprecatedSince20: The `dict` method is deprecated; use `model_dump` instead. Deprecated in Pydantic V2.0 to be removed in V3.0. See Pydantic V2 Migration Guide at https://errors.pydantic.dev/2.10/migration/\n",
            "  message = HumanMessage(**message.dict(exclude={\"type\"}))\n",
            "/var/folders/_c/_wx3_r550ylgdgq0h4q8sllw0000gn/T/ipykernel_1740/2208026300.py:35: PydanticDeprecatedSince20: The `dict` method is deprecated; use `model_dump` instead. Deprecated in Pydantic V2.0 to be removed in V3.0. See Pydantic V2 Migration Guide at https://errors.pydantic.dev/2.10/migration/\n",
            "  message = HumanMessage(**message.dict(exclude={\"type\"}))\n",
            "/var/folders/_c/_wx3_r550ylgdgq0h4q8sllw0000gn/T/ipykernel_1740/2208026300.py:35: PydanticDeprecatedSince20: The `dict` method is deprecated; use `model_dump` instead. Deprecated in Pydantic V2.0 to be removed in V3.0. See Pydantic V2 Migration Guide at https://errors.pydantic.dev/2.10/migration/\n",
            "  message = HumanMessage(**message.dict(exclude={\"type\"}))\n",
            "/var/folders/_c/_wx3_r550ylgdgq0h4q8sllw0000gn/T/ipykernel_1740/2208026300.py:35: PydanticDeprecatedSince20: The `dict` method is deprecated; use `model_dump` instead. Deprecated in Pydantic V2.0 to be removed in V3.0. See Pydantic V2 Migration Guide at https://errors.pydantic.dev/2.10/migration/\n",
            "  message = HumanMessage(**message.dict(exclude={\"type\"}))\n",
            "/var/folders/_c/_wx3_r550ylgdgq0h4q8sllw0000gn/T/ipykernel_1740/2208026300.py:35: PydanticDeprecatedSince20: The `dict` method is deprecated; use `model_dump` instead. Deprecated in Pydantic V2.0 to be removed in V3.0. See Pydantic V2 Migration Guide at https://errors.pydantic.dev/2.10/migration/\n",
            "  message = HumanMessage(**message.dict(exclude={\"type\"}))\n",
            "/var/folders/_c/_wx3_r550ylgdgq0h4q8sllw0000gn/T/ipykernel_1740/2208026300.py:35: PydanticDeprecatedSince20: The `dict` method is deprecated; use `model_dump` instead. Deprecated in Pydantic V2.0 to be removed in V3.0. See Pydantic V2 Migration Guide at https://errors.pydantic.dev/2.10/migration/\n",
            "  message = HumanMessage(**message.dict(exclude={\"type\"}))\n",
            "/var/folders/_c/_wx3_r550ylgdgq0h4q8sllw0000gn/T/ipykernel_1740/2208026300.py:35: PydanticDeprecatedSince20: The `dict` method is deprecated; use `model_dump` instead. Deprecated in Pydantic V2.0 to be removed in V3.0. See Pydantic V2 Migration Guide at https://errors.pydantic.dev/2.10/migration/\n",
            "  message = HumanMessage(**message.dict(exclude={\"type\"}))\n",
            "/var/folders/_c/_wx3_r550ylgdgq0h4q8sllw0000gn/T/ipykernel_1740/2208026300.py:35: PydanticDeprecatedSince20: The `dict` method is deprecated; use `model_dump` instead. Deprecated in Pydantic V2.0 to be removed in V3.0. See Pydantic V2 Migration Guide at https://errors.pydantic.dev/2.10/migration/\n",
            "  message = HumanMessage(**message.dict(exclude={\"type\"}))\n",
            "/var/folders/_c/_wx3_r550ylgdgq0h4q8sllw0000gn/T/ipykernel_1740/2208026300.py:35: PydanticDeprecatedSince20: The `dict` method is deprecated; use `model_dump` instead. Deprecated in Pydantic V2.0 to be removed in V3.0. See Pydantic V2 Migration Guide at https://errors.pydantic.dev/2.10/migration/\n",
            "  message = HumanMessage(**message.dict(exclude={\"type\"}))\n",
            "/var/folders/_c/_wx3_r550ylgdgq0h4q8sllw0000gn/T/ipykernel_1740/2208026300.py:35: PydanticDeprecatedSince20: The `dict` method is deprecated; use `model_dump` instead. Deprecated in Pydantic V2.0 to be removed in V3.0. See Pydantic V2 Migration Guide at https://errors.pydantic.dev/2.10/migration/\n",
            "  message = HumanMessage(**message.dict(exclude={\"type\"}))\n",
            "/var/folders/_c/_wx3_r550ylgdgq0h4q8sllw0000gn/T/ipykernel_1740/2208026300.py:35: PydanticDeprecatedSince20: The `dict` method is deprecated; use `model_dump` instead. Deprecated in Pydantic V2.0 to be removed in V3.0. See Pydantic V2 Migration Guide at https://errors.pydantic.dev/2.10/migration/\n",
            "  message = HumanMessage(**message.dict(exclude={\"type\"}))\n"
          ]
        },
        {
          "name": "stdout",
          "output_type": "stream",
          "text": [
            "conduct_interviews\n",
            "--  {'topic': 'market analysis for Quixy', 'outline': Outline(page_title='Market Analysis for Quixy', sections=[Section(section_title='Introduction', description='A brief overview of Quixy and its significance in the market.', subsections=None), Section(section_title='Company Overview', description='An \n",
            "refine_outline\n",
            "--  {'topic': 'market analysis for Quixy', 'outline': Outline(page_title='Market Analysis for Quixy', sections=[Section(section_title='Introduction', description='A brief overview of Quixy and its significance in the no-code development platform market.', subsections=None), Section(section_title='Compan\n",
            "index_references\n",
            "--  {'topic': 'market analysis for Quixy', 'outline': Outline(page_title='Market Analysis for Quixy', sections=[Section(section_title='Introduction', description='A brief overview of Quixy and its significance in the no-code development platform market.', subsections=None), Section(section_title='Compan\n",
            "write_sections\n",
            "--  {'topic': 'market analysis for Quixy', 'outline': Outline(page_title='Market Analysis for Quixy', sections=[Section(section_title='Introduction', description='A brief overview of Quixy and its significance in the no-code development platform market.', subsections=None), Section(section_title='Compan\n",
            "write_article\n",
            "--  {'topic': 'market analysis for Quixy', 'outline': Outline(page_title='Market Analysis for Quixy', sections=[Section(section_title='Introduction', description='A brief overview of Quixy and its significance in the no-code development platform market.', subsections=None), Section(section_title='Compan\n"
          ]
        }
      ],
      "source": [
        "config = {\"configurable\": {\"thread_id\": \"my-thread\"}}\n",
        "async for step in storm.astream(\n",
        "    {\n",
        "        \"topic\": \"market analysis for Quixy\",\n",
        "    },\n",
        "    config,\n",
        "):\n",
        "    name = next(iter(step))\n",
        "    print(name)\n",
        "    print(\"-- \", str(step[name])[:300])"
      ]
    },
    {
      "cell_type": "code",
      "execution_count": null,
      "metadata": {
        "id": "UDGIAc7SluwP"
      },
      "outputs": [],
      "source": [
        "checkpoint = storm.get_state(config)\n",
        "article = checkpoint.values[\"article\"]"
      ]
    },
    {
      "cell_type": "code",
      "execution_count": null,
      "metadata": {
        "id": "0lKEWk7Pmi8e"
      },
      "outputs": [],
      "source": [
        "article= '''\n",
        "# summary\n",
        "\n",
        "Quixy is a prominent cloud-based no-code platform that allows businesses to automate workflows and create complex applications without the need for coding skills. It is designed to empower non-technical users with its intuitive drag-and-drop interface, making it possible to build applications more quickly and efficiently than traditional coding methods. Quixy has gained notable recognition for its ease of use and customer satisfaction, particularly among project managers who are keen on streamlining workflows and enhancing productivity.[1][2]\n",
        "The platform adopts a tiered pricing model, catering to a variety of organizational sizes and needs with its Platform, Solution, and Enterprise plans. This pricing structure is crafted to provide scalable solutions that align with the specific requirements of different businesses. Unlike some of its competitors, Quixy does not publicly disclose its pricing on its website, which varies based on several factors including the number of users, additional features, and support options.[3][4]\n",
        "In the competitive landscape of no-code and low-code development platforms, Quixy is often compared to rivals such as OutSystems, Bubble, and AppSheet. Quixy stands out with its high user satisfaction rating of 99%, surpassing competitors like Bubble, which has a satisfaction rating of 92%. These comparisons highlight the diverse pricing strategies and features offered across platforms, with OutSystems offering plans ranging from free to $1512.50, thus providing flexible options for businesses of varying sizes and requirements.[5][6]\n",
        "Overall, the choice between Quixy and other no-code or low-code tools often hinges on factors such as the complexity of the applications, the number of users, and the specific features required. Organizations must carefully evaluate these platforms, taking into account user satisfaction ratings and pricing models, to select the tool that best fits their operational needs and budget constraints. This decision-making process is crucial for businesses aiming to leverage no-code solutions for rapid development and deployment while managing costs effectively.[5][7]\n",
        "---\n",
        "References:\n",
        "1. Quixy's Official Website\n",
        "2. User Reviews and Ratings\n",
        "3. Company Pricing Page\n",
        "4. Capterra Pricing Comparison\n",
        "5. OutSystems Pricing Information\n",
        "6. Bubble Pricing Information\n",
        "7. AppSheet Features and Pricing\n",
        "\n",
        "# Quixy\n",
        "\n",
        "Quixy is a cloud-based, no-code platform designed to empower business users to automate workflows and create enterprise-grade applications without needing coding skills[1][2]. The platform boasts a user-friendly interface, which allows users to build applications significantly faster than traditional methods through its drag-and-drop design elements[1]. This capability makes Quixy a valuable tool for project managers seeking to streamline workflows, manage tasks, and enhance productivity[3].\n",
        "\n",
        "## Pricing Structure\n",
        "\n",
        "Quixy's pricing model is organized into three distinct tiers to cater to various organizational sizes and needs: Platform, Solution, and Enterprise[4]. Each tier provides scalable solutions tailored to the specific requirements of different businesses[4]. While Quixy does not list its pricing details explicitly on its website, the pricing varies based on factors such as the number of users, extra features, type of support, hosting options, and uptime guarantees[5][4].\n",
        "\n",
        "### Platform Plan\n",
        "\n",
        "The Platform plan is ideal for situations where the number of applications or workflows is high, offering businesses flexibility in scaling their operations[6].\n",
        "\n",
        "### Solution Plan\n",
        "\n",
        "The Solution plan is better suited for organizations with a high number of users but a lower number of apps or workflows. This plan focuses on accommodating user-specific needs while managing fewer applications[6].\n",
        "\n",
        "### Enterprise Plan\n",
        "\n",
        "Designed for larger organizations, the Enterprise plan provides access to advanced enterprise features and supports extensive customization and integration options[6]. Companies interested in this plan are encouraged to contact Quixy directly for more detailed information[6].\n",
        "\n",
        "## User Experience and Feedback\n",
        "\n",
        "Quixy is highly rated by users for its ease of use, customer support, and value for money, with an overall rating of 4.6 out of 5 from user reviews[7]. Many users have praised its intuitive interface and functionality, although there are some concerns regarding the support team's understanding of the product[7]. Despite this, Quixy remains a popular choice among businesses looking for efficient no-code solutions to streamline their operations[7].\n",
        "\n",
        "# Competitor Analysis\n",
        "\n",
        "In the realm of no-code and low-code development platforms, Quixy stands out with its impressive user satisfaction rating of 99%, surpassing competitors like Bubble, which has a satisfaction rating of 92%[8]. Quixy's overall score of 8.7 also positions it favorably against Bubble, which has a score of 7.6[8]. When comparing pricing and features, platforms such as AppSheet and OutSystems present a range of options and considerations. For instance, users can compare these platforms using Capterra, which provides detailed insights on pricing, features, and user reviews[9][10].\n",
        "The pricing strategies of these platforms are diverse, reflecting their varied offerings and target audiences. OutSystems, for example, offers three pricing plans ranging from free to $1512.50, accommodating different budgetary needs and feature requirements[5][11]. The complexity of applications, number of users, and additional features required can significantly influence the overall cost, making it essential for organizations to choose a plan that aligns with their specific needs[5].\n",
        "Ultimately, businesses seeking to implement no-code or low-code solutions should carefully evaluate their options by comparing the pricing models and user satisfaction ratings of platforms like Quixy, AppSheet, OutSystems, and Bubble, to ensure they select a tool that best fits their operational requirements and financial constraints.\n",
        "\n",
        "# Pricing Comparison\n",
        "\n",
        "When evaluating no-code and low-code tools, understanding the pricing structure is crucial for organizations aiming to find the most cost-effective solution that meets their needs. Quixy offers a tiered pricing model tailored to accommodate businesses of varying sizes and requirements. It includes three distinct plans: Platform, Solution, and Enterprise, which are designed to provide scalable solutions for different business needs[4]. While Quixy does not offer a free trial, it has been recognized for its strong security safeguards and flexibility, providing good value across its pricing plans[3].\n",
        "OutSystems, another prominent player in the low-code market, also offers a tiered pricing approach. Their pricing plans range from $0 to $1512.50, depending on the features, number of users, and level of support required[11][5]. This allows businesses to start free and scale as they grow, making it a flexible option for organizations with dynamic needs. OutSystems provides multiple runtime environments, including development and production, and offers both cloud and on-premises hosting options[12].\n",
        "In comparison, Bubble, another low-code platform, has a different pricing strategy. Unlike Quixy, Bubble offers a $25 plan billed yearly, with no free trial available, highlighting a more straightforward pricing approach[13]. When comparing the overall pricing and user satisfaction ratings, Quixy scores higher with a satisfaction rating of 99% compared to Bubble's 92%, emphasizing its favorable reception among users[8].\n",
        "\n",
        "# Features and Functionality Comparison\n",
        "\n",
        "When comparing Quixy with other no-code and low-code tools, several key features and functionalities stand out. Quixy offers a variety of unique tools that differentiate it from its competitors, including API integration, case management, invoicing, work order management, quality management, and inventory control[14]. It is designed to integrate seamlessly with existing systems and databases, allowing businesses to utilize their current infrastructure without the need for complex migration processes[15].\n",
        "In contrast, AppSheet supports integration with a broad array of data sources such as Google Sheets, Excel, SQL databases, and cloud storage services[16]. It is equipped with advanced functionalities like automated workflows, data capture, offline access, and AI-driven features that facilitate more intelligent app development[16]. The AppSheet Editor further allows for extensive customization of the app's user interface, functionalities, and user interaction with data, including features such as data entry forms, maps for location data, and charts for data visualizations[17].\n",
        "Both platforms operate within a no-code or low-code environment, enabling users to create customized applications tailored to their specific needs without relying on extensive coding[15][18]. This approach is increasingly popular among businesses looking to rapidly develop and deploy applications without the need for a significant investment in development resources[18].\n",
        "\n",
        "# Factors Influencing Pricing\n",
        "\n",
        "The pricing of no-code and low-code platforms like Quixy and OutSystems is influenced by a variety of factors, tailored to meet the diverse needs of different organizations. Key elements that impact the pricing include the complexity of applications you wish to build, the number of users, and any additional features that might be required for your specific use case[5][11].\n",
        "Moreover, the type of support provided can play a significant role in determining the overall cost. Platforms often offer multiple support levels ranging from community support to professional 24x7 assistance, impacting pricing tiers accordingly[12]. Hosting options, such as choosing between cloud hosting or on-premises installation, also add another layer of cost differentiation. OutSystems, for instance, provides flexible hosting choices and uptime guarantees, which can be crucial for businesses with specific reliability and compliance needs[12].\n",
        "For companies seeking integration capabilities, Quixy offers robust options that allow businesses to leverage their existing systems and databases, avoiding the need for complex migrations, which can be a cost-saving advantage[15]. This integration capability, however, may require additional investment in understanding and mastering the platform, which can influence pricing indirectly[15].\n",
        "Lastly, subscription models and licensing structures also affect how pricing is structured. OutSystems, for example, is offered as a yearly subscription, with tiered pricing that accommodates various business growth stages, starting from free plans to more comprehensive enterprise-level solutions[11][19]. These factors combined create a pricing landscape that is designed to be flexible, scalable, and adaptive to different organizational requirements and budgets.'''"
      ]
    },
    {
      "cell_type": "code",
      "execution_count": null,
      "metadata": {
        "colab": {
          "base_uri": "https://localhost:8080/",
          "height": 1000
        },
        "id": "GcXv41fAluuE",
        "outputId": "dff55af2-73d3-4e37-d2fc-1b5ae6279624"
      },
      "outputs": [
        {
          "data": {
            "text/markdown": [
              "\n",
              "## summary\n",
              "\n",
              "Quixy is a prominent cloud-based no-code platform that allows businesses to automate workflows and create complex applications without the need for coding skills. It is designed to empower non-technical users with its intuitive drag-and-drop interface, making it possible to build applications more quickly and efficiently than traditional coding methods. Quixy has gained notable recognition for its ease of use and customer satisfaction, particularly among project managers who are keen on streamlining workflows and enhancing productivity.[1][2]\n",
              "The platform adopts a tiered pricing model, catering to a variety of organizational sizes and needs with its Platform, Solution, and Enterprise plans. This pricing structure is crafted to provide scalable solutions that align with the specific requirements of different businesses. Unlike some of its competitors, Quixy does not publicly disclose its pricing on its website, which varies based on several factors including the number of users, additional features, and support options.[3][4]\n",
              "In the competitive landscape of no-code and low-code development platforms, Quixy is often compared to rivals such as OutSystems, Bubble, and AppSheet. Quixy stands out with its high user satisfaction rating of 99%, surpassing competitors like Bubble, which has a satisfaction rating of 92%. These comparisons highlight the diverse pricing strategies and features offered across platforms, with OutSystems offering plans ranging from free to $1512.50, thus providing flexible options for businesses of varying sizes and requirements.[5][6]\n",
              "Overall, the choice between Quixy and other no-code or low-code tools often hinges on factors such as the complexity of the applications, the number of users, and the specific features required. Organizations must carefully evaluate these platforms, taking into account user satisfaction ratings and pricing models, to select the tool that best fits their operational needs and budget constraints. This decision-making process is crucial for businesses aiming to leverage no-code solutions for rapid development and deployment while managing costs effectively.[5][7]\n",
              "---\n",
              "References:\n",
              "1. Quixy's Official Website\n",
              "2. User Reviews and Ratings\n",
              "3. Company Pricing Page\n",
              "4. Capterra Pricing Comparison\n",
              "5. OutSystems Pricing Information\n",
              "6. Bubble Pricing Information\n",
              "7. AppSheet Features and Pricing\n",
              "\n",
              "## Quixy\n",
              "\n",
              "Quixy is a cloud-based, no-code platform designed to empower business users to automate workflows and create enterprise-grade applications without needing coding skills[1][2]. The platform boasts a user-friendly interface, which allows users to build applications significantly faster than traditional methods through its drag-and-drop design elements[1]. This capability makes Quixy a valuable tool for project managers seeking to streamline workflows, manage tasks, and enhance productivity[3].\n",
              "\n",
              "### Pricing Structure\n",
              "\n",
              "Quixy's pricing model is organized into three distinct tiers to cater to various organizational sizes and needs: Platform, Solution, and Enterprise[4]. Each tier provides scalable solutions tailored to the specific requirements of different businesses[4]. While Quixy does not list its pricing details explicitly on its website, the pricing varies based on factors such as the number of users, extra features, type of support, hosting options, and uptime guarantees[5][4].\n",
              "\n",
              "#### Platform Plan\n",
              "\n",
              "The Platform plan is ideal for situations where the number of applications or workflows is high, offering businesses flexibility in scaling their operations[6].\n",
              "\n",
              "#### Solution Plan\n",
              "\n",
              "The Solution plan is better suited for organizations with a high number of users but a lower number of apps or workflows. This plan focuses on accommodating user-specific needs while managing fewer applications[6].\n",
              "\n",
              "#### Enterprise Plan\n",
              "\n",
              "Designed for larger organizations, the Enterprise plan provides access to advanced enterprise features and supports extensive customization and integration options[6]. Companies interested in this plan are encouraged to contact Quixy directly for more detailed information[6].\n",
              "\n",
              "### User Experience and Feedback\n",
              "\n",
              "Quixy is highly rated by users for its ease of use, customer support, and value for money, with an overall rating of 4.6 out of 5 from user reviews[7]. Many users have praised its intuitive interface and functionality, although there are some concerns regarding the support team's understanding of the product[7]. Despite this, Quixy remains a popular choice among businesses looking for efficient no-code solutions to streamline their operations[7].\n",
              "\n",
              "## Competitor Analysis\n",
              "\n",
              "In the realm of no-code and low-code development platforms, Quixy stands out with its impressive user satisfaction rating of 99%, surpassing competitors like Bubble, which has a satisfaction rating of 92%[8]. Quixy's overall score of 8.7 also positions it favorably against Bubble, which has a score of 7.6[8]. When comparing pricing and features, platforms such as AppSheet and OutSystems present a range of options and considerations. For instance, users can compare these platforms using Capterra, which provides detailed insights on pricing, features, and user reviews[9][10].\n",
              "The pricing strategies of these platforms are diverse, reflecting their varied offerings and target audiences. OutSystems, for example, offers three pricing plans ranging from free to $1512.50, accommodating different budgetary needs and feature requirements[5][11]. The complexity of applications, number of users, and additional features required can significantly influence the overall cost, making it essential for organizations to choose a plan that aligns with their specific needs[5].\n",
              "Ultimately, businesses seeking to implement no-code or low-code solutions should carefully evaluate their options by comparing the pricing models and user satisfaction ratings of platforms like Quixy, AppSheet, OutSystems, and Bubble, to ensure they select a tool that best fits their operational requirements and financial constraints.\n",
              "\n",
              "## Pricing Comparison\n",
              "\n",
              "When evaluating no-code and low-code tools, understanding the pricing structure is crucial for organizations aiming to find the most cost-effective solution that meets their needs. Quixy offers a tiered pricing model tailored to accommodate businesses of varying sizes and requirements. It includes three distinct plans: Platform, Solution, and Enterprise, which are designed to provide scalable solutions for different business needs[4]. While Quixy does not offer a free trial, it has been recognized for its strong security safeguards and flexibility, providing good value across its pricing plans[3].\n",
              "OutSystems, another prominent player in the low-code market, also offers a tiered pricing approach. Their pricing plans range from $0 to $1512.50, depending on the features, number of users, and level of support required[11][5]. This allows businesses to start free and scale as they grow, making it a flexible option for organizations with dynamic needs. OutSystems provides multiple runtime environments, including development and production, and offers both cloud and on-premises hosting options[12].\n",
              "In comparison, Bubble, another low-code platform, has a different pricing strategy. Unlike Quixy, Bubble offers a $25 plan billed yearly, with no free trial available, highlighting a more straightforward pricing approach[13]. When comparing the overall pricing and user satisfaction ratings, Quixy scores higher with a satisfaction rating of 99% compared to Bubble's 92%, emphasizing its favorable reception among users[8].\n",
              "\n",
              "## Features and Functionality Comparison\n",
              "\n",
              "When comparing Quixy with other no-code and low-code tools, several key features and functionalities stand out. Quixy offers a variety of unique tools that differentiate it from its competitors, including API integration, case management, invoicing, work order management, quality management, and inventory control[14]. It is designed to integrate seamlessly with existing systems and databases, allowing businesses to utilize their current infrastructure without the need for complex migration processes[15].\n",
              "In contrast, AppSheet supports integration with a broad array of data sources such as Google Sheets, Excel, SQL databases, and cloud storage services[16]. It is equipped with advanced functionalities like automated workflows, data capture, offline access, and AI-driven features that facilitate more intelligent app development[16]. The AppSheet Editor further allows for extensive customization of the app's user interface, functionalities, and user interaction with data, including features such as data entry forms, maps for location data, and charts for data visualizations[17].\n",
              "Both platforms operate within a no-code or low-code environment, enabling users to create customized applications tailored to their specific needs without relying on extensive coding[15][18]. This approach is increasingly popular among businesses looking to rapidly develop and deploy applications without the need for a significant investment in development resources[18].\n",
              "\n",
              "## Factors Influencing Pricing\n",
              "\n",
              "The pricing of no-code and low-code platforms like Quixy and OutSystems is influenced by a variety of factors, tailored to meet the diverse needs of different organizations. Key elements that impact the pricing include the complexity of applications you wish to build, the number of users, and any additional features that might be required for your specific use case[5][11].\n",
              "Moreover, the type of support provided can play a significant role in determining the overall cost. Platforms often offer multiple support levels ranging from community support to professional 24x7 assistance, impacting pricing tiers accordingly[12]. Hosting options, such as choosing between cloud hosting or on-premises installation, also add another layer of cost differentiation. OutSystems, for instance, provides flexible hosting choices and uptime guarantees, which can be crucial for businesses with specific reliability and compliance needs[12].\n",
              "For companies seeking integration capabilities, Quixy offers robust options that allow businesses to leverage their existing systems and databases, avoiding the need for complex migrations, which can be a cost-saving advantage[15]. This integration capability, however, may require additional investment in understanding and mastering the platform, which can influence pricing indirectly[15].\n",
              "Lastly, subscription models and licensing structures also affect how pricing is structured. OutSystems, for example, is offered as a yearly subscription, with tiered pricing that accommodates various business growth stages, starting from free plans to more comprehensive enterprise-level solutions[11][19]. These factors combined create a pricing landscape that is designed to be flexible, scalable, and adaptive to different organizational requirements and budgets."
            ],
            "text/plain": [
              "<IPython.core.display.Markdown object>"
            ]
          },
          "execution_count": 44,
          "metadata": {},
          "output_type": "execute_result"
        }
      ],
      "source": [
        "from IPython.display import Markdown\n",
        "\n",
        "# We will down-header the sections to create less confusion in this notebook\n",
        "Markdown(article.replace(\"\\n#\", \"\\n##\"))"
      ]
    },
    {
      "cell_type": "code",
      "execution_count": null,
      "metadata": {
        "id": "jMBR0JQ5lue8"
      },
      "outputs": [],
      "source": []
    },
    {
      "cell_type": "code",
      "execution_count": null,
      "metadata": {},
      "outputs": [],
      "source": []
    }
  ],
  "metadata": {
    "colab": {
      "provenance": []
    },
    "kernelspec": {
      "display_name": "Python 3",
      "name": "python3"
    },
    "language_info": {
      "codemirror_mode": {
        "name": "ipython",
        "version": 3
      },
      "file_extension": ".py",
      "mimetype": "text/x-python",
      "name": "python",
      "nbconvert_exporter": "python",
      "pygments_lexer": "ipython3",
      "version": "3.10.0"
    }
  },
  "nbformat": 4,
  "nbformat_minor": 0
}
